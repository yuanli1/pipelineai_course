{
 "cells": [
  {
   "cell_type": "markdown",
   "metadata": {
    "colab_type": "text",
    "id": "YuSYVbwEYNHw"
   },
   "source": [
    "# TensorFlow Data Validation"
   ]
  },
  {
   "cell_type": "markdown",
   "metadata": {
    "colab_type": "text",
    "id": "mPt5BHTwy_0F"
   },
   "source": [
    "This notebook illustrates how TensorFlow Data Validation (TFDV) can be used to investigate and visualize your dataset.  That includes looking at descriptive statistics, inferring a schema, checking for and fixing anomalies, and checking for drift and skew in our dataset.  It's important to understand your dataset's characteristics, including how it might change over time in your production pipeline.  It's also important to look for anomalies in your data, and to compare your training, evaluation, and serving datasets to make sure that they're consistent.\n",
    "\n",
    "We'll use data from the [Taxi Trips dataset](https://data.cityofchicago.org/Transportation/Taxi-Trips/wrvz-psew) released by the City of Chicago.\n",
    "\n",
    "Note: This site provides applications using data that has been modified for use from its original source, www.cityofchicago.org, the official website of the City of Chicago. The City of Chicago makes no claims as to the content, accuracy, timeliness, or completeness of any of the data provided at this site. The data provided at this site is subject to change at any time. It is understood that the data provided at this site is being used at one’s own risk.\n",
    "\n",
    "[Read more](https://cloud.google.com/bigquery/public-data/chicago-taxi) about the dataset in [Google BigQuery](https://cloud.google.com/bigquery/). Explore the full dataset in the [BigQuery UI](https://bigquery.cloud.google.com/dataset/bigquery-public-data:chicago_taxi_trips).\n",
    "\n",
    "Key Point: As a modeler and developer, think about how this data is used and the potential benefits and harm a model's predictions can cause. A model like this could reinforce societal biases and disparities. Is a feature relevant to the problem you want to solve or will it introduce bias? For more information, read about [ML fairness](https://developers.google.com/machine-learning/fairness-overview/)."
   ]
  },
  {
   "cell_type": "markdown",
   "metadata": {
    "colab_type": "text",
    "id": "Fnm6Mj3vTGLm"
   },
   "source": [
    "The columns in the dataset are:\n",
    "<table>\n",
    "<tr><td>pickup_community_area</td><td>fare</td><td>trip_start_month</td></tr>\n",
    "\n",
    "<tr><td>trip_start_hour</td><td>trip_start_day</td><td>trip_start_timestamp</td></tr>\n",
    "<tr><td>pickup_latitude</td><td>pickup_longitude</td><td>dropoff_latitude</td></tr>\n",
    "<tr><td>dropoff_longitude</td><td>trip_miles</td><td>pickup_census_tract</td></tr>\n",
    "<tr><td>dropoff_census_tract</td><td>payment_type</td><td>company</td></tr>\n",
    "<tr><td>trip_seconds</td><td>dropoff_community_area</td><td>tips</td></tr>\n",
    "</table>"
   ]
  },
  {
   "cell_type": "markdown",
   "metadata": {
    "colab_type": "text",
    "id": "RptgLn2RYuK3"
   },
   "source": [
    "## Load the files\n",
    "After checking our Python version we'll download our dataset in a zip file, using HTTPS and a Google Cloud server."
   ]
  },
  {
   "cell_type": "code",
   "execution_count": 1,
   "metadata": {
    "colab": {},
    "colab_type": "code",
    "id": "K4QXVIM7iglN"
   },
   "outputs": [
    {
     "name": "stdout",
     "output_type": "stream",
     "text": [
      "Here's what we downloaded:\n",
      "/tmp/tmphozs3_fc/data:\n",
      "total 12\n",
      "drwxr-xr-x 2 root root 4096 Jun 15 17:59 eval\n",
      "drwxr-xr-x 2 root root 4096 Jun 15 17:59 serving\n",
      "drwxr-xr-x 2 root root 4096 Jun 15 17:59 train\n",
      "\n",
      "/tmp/tmphozs3_fc/data/eval:\n",
      "total 628\n",
      "-rw-r--r-- 1 root root 641080 Jun 15 17:59 data.csv\n",
      "\n",
      "/tmp/tmphozs3_fc/data/serving:\n",
      "total 16\n",
      "-rw-r--r-- 1 root root 12727 Jun 15 17:59 data.csv\n",
      "\n",
      "/tmp/tmphozs3_fc/data/train:\n",
      "total 1252\n",
      "-rw-r--r-- 1 root root 1281866 Jun 15 17:59 data.csv\n"
     ]
    }
   ],
   "source": [
    "from __future__ import print_function\n",
    "import sys, os\n",
    "import tempfile, urllib, zipfile\n",
    "\n",
    "# Set up some globals for our file paths\n",
    "BASE_DIR = tempfile.mkdtemp()\n",
    "DATA_DIR = os.path.join(BASE_DIR, 'data')\n",
    "OUTPUT_DIR = os.path.join(BASE_DIR, 'chicago_taxi_output')\n",
    "TRAIN_DATA = os.path.join(DATA_DIR, 'train', 'data.csv')\n",
    "EVAL_DATA = os.path.join(DATA_DIR, 'eval', 'data.csv')\n",
    "SERVING_DATA = os.path.join(DATA_DIR, 'serving', 'data.csv')\n",
    "\n",
    "# Download the zip file from GCP and unzip it\n",
    "zip, headers = urllib.request.urlretrieve('https://storage.googleapis.com/tfx-colab-datasets/chicago_data.zip')\n",
    "zipfile.ZipFile(zip).extractall(BASE_DIR)\n",
    "zipfile.ZipFile(zip).close()\n",
    "\n",
    "print(\"Here's what we downloaded:\")\n",
    "!ls -lR {os.path.join(BASE_DIR, 'data')}"
   ]
  },
  {
   "cell_type": "markdown",
   "metadata": {
    "colab_type": "text",
    "id": "4qBFH1ARcSNk"
   },
   "source": [
    "## Install TFDV\n",
    "\n",
    "This will pull in all the dependencies, which will take a minute.  Please ignore the warnings."
   ]
  },
  {
   "cell_type": "code",
   "execution_count": 4,
   "metadata": {},
   "outputs": [
    {
     "name": "stdout",
     "output_type": "stream",
     "text": [
      "Collecting tensorflow_data_validation==0.13.1\n",
      "  Using cached https://files.pythonhosted.org/packages/56/7f/f735edd93025ae04ca159db92013d373968144d719fe203e37d043db8c87/tensorflow_data_validation-0.13.1-cp36-cp36m-manylinux1_x86_64.whl\n",
      "Requirement already satisfied: protobuf<4,>=3.7 in /opt/conda/lib/python3.6/site-packages (from tensorflow_data_validation==0.13.1) (3.7.1)\n",
      "Collecting scikit-learn<1,>=0.18 (from tensorflow_data_validation==0.13.1)\n",
      "  Using cached https://files.pythonhosted.org/packages/85/04/49633f490f726da6e454fddc8e938bbb5bfed2001681118d3814c219b723/scikit_learn-0.21.2-cp36-cp36m-manylinux1_x86_64.whl\n",
      "Requirement already satisfied: six<2,>=1.10 in /opt/conda/lib/python3.6/site-packages (from tensorflow_data_validation==0.13.1) (1.12.0)\n",
      "Collecting tensorflow-metadata<0.14,>=0.12.1 (from tensorflow_data_validation==0.13.1)\n",
      "  Using cached https://files.pythonhosted.org/packages/08/b7/3fc74574aa9aff44491cce996711dd6094653c20d9e2800be4efb054e0da/tensorflow_metadata-0.13.0-py3-none-any.whl\n",
      "Collecting tensorflow-transform<0.14,>=0.13 (from tensorflow_data_validation==0.13.1)\n",
      "  Using cached https://files.pythonhosted.org/packages/dd/b2/eb6b34eedf6f61003e292975a033b4ebc1b1be8537a9b5094d2a6944f229/tensorflow-transform-0.13.0.tar.gz\n",
      "Requirement already satisfied: IPython>=5.0 in /opt/conda/lib/python3.6/site-packages (from tensorflow_data_validation==0.13.1) (7.4.0)\n",
      "Collecting apache-beam[gcp]<3,>=2.11 (from tensorflow_data_validation==0.13.1)\n",
      "  Using cached https://files.pythonhosted.org/packages/23/c1/1a30d50dd85b96843a018c10e05ca82f186576779a5fae0cb4ec551d4e1c/apache_beam-2.13.0-cp36-cp36m-manylinux1_x86_64.whl\n",
      "Collecting pandas<1,>=0.18 (from tensorflow_data_validation==0.13.1)\n",
      "  Using cached https://files.pythonhosted.org/packages/19/74/e50234bc82c553fecdbd566d8650801e3fe2d6d8c8d940638e3d8a7c5522/pandas-0.24.2-cp36-cp36m-manylinux1_x86_64.whl\n",
      "Collecting joblib<1,>=0.12 (from tensorflow_data_validation==0.13.1)\n",
      "  Using cached https://files.pythonhosted.org/packages/cd/c1/50a758e8247561e58cb87305b1e90b171b8c767b15b12a1734001f41d356/joblib-0.13.2-py2.py3-none-any.whl\n",
      "Requirement already satisfied: numpy<2,>=1.14.5 in /opt/conda/lib/python3.6/site-packages (from tensorflow_data_validation==0.13.1) (1.16.2)\n",
      "Requirement already satisfied: absl-py<1,>=0.1.6 in /opt/conda/lib/python3.6/site-packages (from tensorflow_data_validation==0.13.1) (0.7.1)\n",
      "Requirement already satisfied: setuptools in /opt/conda/lib/python3.6/site-packages (from protobuf<4,>=3.7->tensorflow_data_validation==0.13.1) (40.9.0)\n",
      "Requirement already satisfied: scipy>=0.17.0 in /opt/conda/lib/python3.6/site-packages (from scikit-learn<1,>=0.18->tensorflow_data_validation==0.13.1) (1.2.1)\n",
      "Requirement already satisfied: googleapis-common-protos in /opt/conda/lib/python3.6/site-packages (from tensorflow-metadata<0.14,>=0.12.1->tensorflow_data_validation==0.13.1) (1.5.9)\n",
      "Collecting pydot<1.3,>=1.2.0 (from tensorflow-transform<0.14,>=0.13->tensorflow_data_validation==0.13.1)\n",
      "  Using cached https://files.pythonhosted.org/packages/c3/f1/e61d6dfe6c1768ed2529761a68f70939e2569da043e9f15a8d84bf56cadf/pydot-1.2.4.tar.gz\n",
      "Requirement already satisfied: prompt-toolkit<2.1.0,>=2.0.0 in /opt/conda/lib/python3.6/site-packages (from IPython>=5.0->tensorflow_data_validation==0.13.1) (2.0.9)\n",
      "Requirement already satisfied: pickleshare in /opt/conda/lib/python3.6/site-packages (from IPython>=5.0->tensorflow_data_validation==0.13.1) (0.7.5)\n",
      "Requirement already satisfied: pygments in /opt/conda/lib/python3.6/site-packages (from IPython>=5.0->tensorflow_data_validation==0.13.1) (2.3.1)\n",
      "Requirement already satisfied: traitlets>=4.2 in /opt/conda/lib/python3.6/site-packages (from IPython>=5.0->tensorflow_data_validation==0.13.1) (4.3.2)\n",
      "Requirement already satisfied: decorator in /opt/conda/lib/python3.6/site-packages (from IPython>=5.0->tensorflow_data_validation==0.13.1) (4.4.0)\n",
      "Requirement already satisfied: backcall in /opt/conda/lib/python3.6/site-packages (from IPython>=5.0->tensorflow_data_validation==0.13.1) (0.1.0)\n",
      "Requirement already satisfied: pexpect; sys_platform != \"win32\" in /opt/conda/lib/python3.6/site-packages (from IPython>=5.0->tensorflow_data_validation==0.13.1) (4.6.0)\n",
      "Requirement already satisfied: jedi>=0.10 in /opt/conda/lib/python3.6/site-packages (from IPython>=5.0->tensorflow_data_validation==0.13.1) (0.13.3)\n",
      "Collecting dill<0.2.10,>=0.2.9 (from apache-beam[gcp]<3,>=2.11->tensorflow_data_validation==0.13.1)\n",
      "\u001b[?25l  Downloading https://files.pythonhosted.org/packages/fe/42/bfe2e0857bc284cbe6a011d93f2a9ad58a22cb894461b199ae72cfef0f29/dill-0.2.9.tar.gz (150kB)\n",
      "\u001b[K    100% |████████████████████████████████| 153kB 7.8MB/s ta 0:00:01\n",
      "\u001b[?25hRequirement already satisfied: future<1.0.0,>=0.16.0 in /opt/conda/lib/python3.6/site-packages (from apache-beam[gcp]<3,>=2.11->tensorflow_data_validation==0.13.1) (0.17.1)\n",
      "Collecting pyyaml<4.0.0,>=3.12 (from apache-beam[gcp]<3,>=2.11->tensorflow_data_validation==0.13.1)\n",
      "\u001b[?25l  Downloading https://files.pythonhosted.org/packages/9e/a3/1d13970c3f36777c583f136c136f804d70f500168edc1edea6daa7200769/PyYAML-3.13.tar.gz (270kB)\n",
      "\u001b[K    100% |████████████████████████████████| 276kB 20.9MB/s ta 0:00:01\n",
      "\u001b[?25hCollecting httplib2<=0.12.0,>=0.8 (from apache-beam[gcp]<3,>=2.11->tensorflow_data_validation==0.13.1)\n",
      "\u001b[?25l  Downloading https://files.pythonhosted.org/packages/ce/ed/803905d670b52fa0edfdd135337e545b4496c2ab3a222f1449b7256eb99f/httplib2-0.12.0.tar.gz (218kB)\n",
      "\u001b[K    100% |████████████████████████████████| 225kB 28.8MB/s ta 0:00:01\n",
      "\u001b[?25hCollecting oauth2client<4,>=2.0.1 (from apache-beam[gcp]<3,>=2.11->tensorflow_data_validation==0.13.1)\n",
      "\u001b[?25l  Downloading https://files.pythonhosted.org/packages/c0/7b/bc893e35d6ca46a72faa4b9eaac25c687ce60e1fbe978993fe2de1b0ff0d/oauth2client-3.0.0.tar.gz (77kB)\n",
      "\u001b[K    100% |████████████████████████████████| 81kB 16.6MB/s ta 0:00:01\n",
      "\u001b[?25hRequirement already satisfied: grpcio<2,>=1.8 in /opt/conda/lib/python3.6/site-packages (from apache-beam[gcp]<3,>=2.11->tensorflow_data_validation==0.13.1) (1.19.0)\n",
      "Collecting fastavro<0.22,>=0.21.4 (from apache-beam[gcp]<3,>=2.11->tensorflow_data_validation==0.13.1)\n",
      "\u001b[?25l  Downloading https://files.pythonhosted.org/packages/e1/28/0206330c0002b1e28e21473117d0dc813defbd5891562d27af5c68c93899/fastavro-0.21.24-cp36-cp36m-manylinux1_x86_64.whl (1.2MB)\n",
      "\u001b[K    100% |████████████████████████████████| 1.2MB 17.2MB/s ta 0:00:01\n",
      "\u001b[?25hCollecting avro-python3<2.0.0,>=1.8.1; python_version >= \"3.0\" (from apache-beam[gcp]<3,>=2.11->tensorflow_data_validation==0.13.1)\n",
      "  Downloading https://files.pythonhosted.org/packages/d1/55/4c2e6fecf06cbaa68e0abaf12e1e965969872ed16da3674e6245cab0d5e2/avro-python3-1.9.0.tar.gz\n",
      "Collecting pyarrow<0.14.0,>=0.11.1; python_version >= \"3.0\" or platform_system != \"Windows\" (from apache-beam[gcp]<3,>=2.11->tensorflow_data_validation==0.13.1)\n",
      "\u001b[?25l  Downloading https://files.pythonhosted.org/packages/ad/25/094b122d828d24b58202712a74e661e36cd551ca62d331e388ff68bae91d/pyarrow-0.13.0-cp36-cp36m-manylinux1_x86_64.whl (48.5MB)\n",
      "\u001b[K    100% |████████████████████████████████| 48.5MB 544kB/s eta 0:00:01    39% |████████████▊                   | 19.2MB 70.8MB/s eta 0:00:01\n",
      "\u001b[?25hCollecting hdfs<3.0.0,>=2.1.0 (from apache-beam[gcp]<3,>=2.11->tensorflow_data_validation==0.13.1)\n",
      "  Downloading https://files.pythonhosted.org/packages/d4/26/d153af0603c608d675ff9b48c54db756ba1bb358425c8054e2df19734dc0/hdfs-2.5.5.tar.gz\n",
      "Requirement already satisfied: mock<3.0.0,>=1.0.1 in /opt/conda/lib/python3.6/site-packages (from apache-beam[gcp]<3,>=2.11->tensorflow_data_validation==0.13.1) (2.0.0)\n",
      "Collecting crcmod<2.0,>=1.7 (from apache-beam[gcp]<3,>=2.11->tensorflow_data_validation==0.13.1)\n",
      "\u001b[?25l  Downloading https://files.pythonhosted.org/packages/6b/b0/e595ce2a2527e169c3bcd6c33d2473c1918e0b7f6826a043ca1245dd4e5b/crcmod-1.7.tar.gz (89kB)\n",
      "\u001b[K    100% |████████████████████████████████| 92kB 22.3MB/s ta 0:00:01\n",
      "\u001b[?25hRequirement already satisfied: pytz>=2018.3 in /opt/conda/lib/python3.6/site-packages (from apache-beam[gcp]<3,>=2.11->tensorflow_data_validation==0.13.1) (2018.9)\n",
      "Collecting google-cloud-datastore<1.8.0,>=1.7.1; extra == \"gcp\" (from apache-beam[gcp]<3,>=2.11->tensorflow_data_validation==0.13.1)\n"
     ]
    },
    {
     "name": "stdout",
     "output_type": "stream",
     "text": [
      "\u001b[?25l  Downloading https://files.pythonhosted.org/packages/d0/aa/29cbcf8cf7d08ce2d55b9dce858f7c632b434cb6451bed17cb4275804217/google_cloud_datastore-1.7.4-py2.py3-none-any.whl (82kB)\n",
      "\u001b[K    100% |████████████████████████████████| 92kB 31.6MB/s ta 0:00:01\n",
      "\u001b[?25hRequirement already satisfied: cachetools<4,>=3.1.0; extra == \"gcp\" in /opt/conda/lib/python3.6/site-packages (from apache-beam[gcp]<3,>=2.11->tensorflow_data_validation==0.13.1) (3.1.0)\n",
      "Requirement already satisfied: google-cloud-core<0.30.0,>=0.28.1; extra == \"gcp\" in /opt/conda/lib/python3.6/site-packages (from apache-beam[gcp]<3,>=2.11->tensorflow_data_validation==0.13.1) (0.29.1)\n",
      "Collecting google-cloud-bigtable<0.33.0,>=0.31.1; extra == \"gcp\" (from apache-beam[gcp]<3,>=2.11->tensorflow_data_validation==0.13.1)\n",
      "\u001b[?25l  Downloading https://files.pythonhosted.org/packages/08/77/b468e209dbb0a6f614e6781f06a4894299a4c6167c2c525cc086caa7c075/google_cloud_bigtable-0.32.2-py2.py3-none-any.whl (156kB)\n",
      "\u001b[K    100% |████████████████████████████████| 163kB 33.7MB/s ta 0:00:01\n",
      "\u001b[?25hCollecting google-cloud-bigquery<1.7.0,>=1.6.0; extra == \"gcp\" (from apache-beam[gcp]<3,>=2.11->tensorflow_data_validation==0.13.1)\n",
      "\u001b[?25l  Downloading https://files.pythonhosted.org/packages/b7/1b/2b95f2fefddbbece38110712c225bfb5649206f4056445653bd5ca4dc86d/google_cloud_bigquery-1.6.1-py2.py3-none-any.whl (83kB)\n",
      "\u001b[K    100% |████████████████████████████████| 92kB 27.5MB/s ta 0:00:01\n",
      "\u001b[?25hCollecting google-cloud-pubsub<0.40.0,>=0.39.0; extra == \"gcp\" (from apache-beam[gcp]<3,>=2.11->tensorflow_data_validation==0.13.1)\n",
      "\u001b[?25l  Downloading https://files.pythonhosted.org/packages/c0/9a/4455b1c1450e9b912855b58ca6eee7a27ff1e9b52e4d98c243d93256f469/google_cloud_pubsub-0.39.1-py2.py3-none-any.whl (99kB)\n",
      "\u001b[K    100% |████████████████████████████████| 102kB 27.7MB/s a 0:00:01\n",
      "\u001b[?25hCollecting google-apitools<0.5.29,>=0.5.28; extra == \"gcp\" (from apache-beam[gcp]<3,>=2.11->tensorflow_data_validation==0.13.1)\n",
      "\u001b[?25l  Downloading https://files.pythonhosted.org/packages/7f/32/df3e36fd705a00092f1ffa9f41ce1df8dcb594ae313d239b87861a41fc2e/google-apitools-0.5.28.tar.gz (172kB)\n",
      "\u001b[K    100% |████████████████████████████████| 174kB 31.5MB/s ta 0:00:01\n",
      "\u001b[?25hRequirement already satisfied: python-dateutil>=2.5.0 in /opt/conda/lib/python3.6/site-packages (from pandas<1,>=0.18->tensorflow_data_validation==0.13.1) (2.8.0)\n",
      "Collecting pyparsing>=2.1.4 (from pydot<1.3,>=1.2.0->tensorflow-transform<0.14,>=0.13->tensorflow_data_validation==0.13.1)\n",
      "\u001b[?25l  Downloading https://files.pythonhosted.org/packages/dd/d9/3ec19e966301a6e25769976999bd7bbe552016f0d32b577dc9d63d2e0c49/pyparsing-2.4.0-py2.py3-none-any.whl (62kB)\n",
      "\u001b[K    100% |████████████████████████████████| 71kB 17.2MB/s ta 0:00:01\n",
      "\u001b[?25hRequirement already satisfied: wcwidth in /opt/conda/lib/python3.6/site-packages (from prompt-toolkit<2.1.0,>=2.0.0->IPython>=5.0->tensorflow_data_validation==0.13.1) (0.1.7)\n",
      "Requirement already satisfied: ipython-genutils in /opt/conda/lib/python3.6/site-packages (from traitlets>=4.2->IPython>=5.0->tensorflow_data_validation==0.13.1) (0.2.0)\n",
      "Requirement already satisfied: ptyprocess>=0.5 in /opt/conda/lib/python3.6/site-packages (from pexpect; sys_platform != \"win32\"->IPython>=5.0->tensorflow_data_validation==0.13.1) (0.6.0)\n",
      "Requirement already satisfied: parso>=0.3.0 in /opt/conda/lib/python3.6/site-packages (from jedi>=0.10->IPython>=5.0->tensorflow_data_validation==0.13.1) (0.4.0)\n",
      "Requirement already satisfied: pyasn1>=0.1.7 in /opt/conda/lib/python3.6/site-packages (from oauth2client<4,>=2.0.1->apache-beam[gcp]<3,>=2.11->tensorflow_data_validation==0.13.1) (0.4.5)\n",
      "Requirement already satisfied: pyasn1-modules>=0.0.5 in /opt/conda/lib/python3.6/site-packages (from oauth2client<4,>=2.0.1->apache-beam[gcp]<3,>=2.11->tensorflow_data_validation==0.13.1) (0.2.4)\n",
      "Requirement already satisfied: rsa>=3.1.4 in /opt/conda/lib/python3.6/site-packages (from oauth2client<4,>=2.0.1->apache-beam[gcp]<3,>=2.11->tensorflow_data_validation==0.13.1) (4.0)\n",
      "Collecting docopt (from hdfs<3.0.0,>=2.1.0->apache-beam[gcp]<3,>=2.11->tensorflow_data_validation==0.13.1)\n",
      "  Downloading https://files.pythonhosted.org/packages/a2/55/8f8cab2afd404cf578136ef2cc5dfb50baa1761b68c9da1fb1e4eed343c9/docopt-0.6.2.tar.gz\n",
      "Requirement already satisfied: requests>=2.7.0 in /opt/conda/lib/python3.6/site-packages (from hdfs<3.0.0,>=2.1.0->apache-beam[gcp]<3,>=2.11->tensorflow_data_validation==0.13.1) (2.21.0)\n",
      "Requirement already satisfied: pbr>=0.11 in /opt/conda/lib/python3.6/site-packages (from mock<3.0.0,>=1.0.1->apache-beam[gcp]<3,>=2.11->tensorflow_data_validation==0.13.1) (5.1.3)\n",
      "Requirement already satisfied: google-api-core[grpc]<2.0.0dev,>=1.6.0 in /opt/conda/lib/python3.6/site-packages (from google-cloud-datastore<1.8.0,>=1.7.1; extra == \"gcp\"->apache-beam[gcp]<3,>=2.11->tensorflow_data_validation==0.13.1) (1.9.0)\n",
      "Collecting grpc-google-iam-v1<0.12dev,>=0.11.4 (from google-cloud-bigtable<0.33.0,>=0.31.1; extra == \"gcp\"->apache-beam[gcp]<3,>=2.11->tensorflow_data_validation==0.13.1)\n",
      "  Downloading https://files.pythonhosted.org/packages/9b/28/f26f67381cb23e81271b8d66c00a846ad9d25a909ae1ae1df8222fad2744/grpc-google-iam-v1-0.11.4.tar.gz\n",
      "Requirement already satisfied: google-resumable-media>=0.2.1 in /opt/conda/lib/python3.6/site-packages (from google-cloud-bigquery<1.7.0,>=1.6.0; extra == \"gcp\"->apache-beam[gcp]<3,>=2.11->tensorflow_data_validation==0.13.1) (0.3.2)\n",
      "Collecting fasteners>=0.14 (from google-apitools<0.5.29,>=0.5.28; extra == \"gcp\"->apache-beam[gcp]<3,>=2.11->tensorflow_data_validation==0.13.1)\n",
      "  Downloading https://files.pythonhosted.org/packages/18/bd/55eb2d6397b9c0e263af9d091ebdb756b15756029b3cededf6461481bc63/fasteners-0.15-py2.py3-none-any.whl\n",
      "Requirement already satisfied: idna<2.9,>=2.5 in /opt/conda/lib/python3.6/site-packages (from requests>=2.7.0->hdfs<3.0.0,>=2.1.0->apache-beam[gcp]<3,>=2.11->tensorflow_data_validation==0.13.1) (2.8)\n",
      "Requirement already satisfied: certifi>=2017.4.17 in /opt/conda/lib/python3.6/site-packages (from requests>=2.7.0->hdfs<3.0.0,>=2.1.0->apache-beam[gcp]<3,>=2.11->tensorflow_data_validation==0.13.1) (2019.3.9)\n",
      "Requirement already satisfied: chardet<3.1.0,>=3.0.2 in /opt/conda/lib/python3.6/site-packages (from requests>=2.7.0->hdfs<3.0.0,>=2.1.0->apache-beam[gcp]<3,>=2.11->tensorflow_data_validation==0.13.1) (3.0.4)\n",
      "Requirement already satisfied: urllib3<1.25,>=1.21.1 in /opt/conda/lib/python3.6/site-packages (from requests>=2.7.0->hdfs<3.0.0,>=2.1.0->apache-beam[gcp]<3,>=2.11->tensorflow_data_validation==0.13.1) (1.24.1)\n",
      "Requirement already satisfied: google-auth<2.0dev,>=0.4.0 in /opt/conda/lib/python3.6/site-packages (from google-api-core[grpc]<2.0.0dev,>=1.6.0->google-cloud-datastore<1.8.0,>=1.7.1; extra == \"gcp\"->apache-beam[gcp]<3,>=2.11->tensorflow_data_validation==0.13.1) (1.6.3)\n",
      "Collecting monotonic>=0.1 (from fasteners>=0.14->google-apitools<0.5.29,>=0.5.28; extra == \"gcp\"->apache-beam[gcp]<3,>=2.11->tensorflow_data_validation==0.13.1)\n",
      "  Downloading https://files.pythonhosted.org/packages/ac/aa/063eca6a416f397bd99552c534c6d11d57f58f2e94c14780f3bbf818c4cf/monotonic-1.5-py2.py3-none-any.whl\n",
      "Building wheels for collected packages: tensorflow-transform, pydot, dill, pyyaml, httplib2, oauth2client, avro-python3, hdfs, crcmod, google-apitools, docopt, grpc-google-iam-v1\n",
      "  Building wheel for tensorflow-transform (setup.py) ... \u001b[?25ldone\n",
      "\u001b[?25h  Stored in directory: /home/jovyan/.cache/pip/wheels/fa/8e/22/bf6c72aa7a68be71b39e7a2b7b08dfcde282dc58fa2481047f\n",
      "  Building wheel for pydot (setup.py) ... \u001b[?25ldone\n",
      "\u001b[?25h  Stored in directory: /home/jovyan/.cache/pip/wheels/6a/a5/14/25541ebcdeaf97a37b6d05c7ff15f5bd20f5e91b99d313e5b4\n",
      "  Building wheel for dill (setup.py) ... \u001b[?25ldone\n",
      "\u001b[?25h  Stored in directory: /home/jovyan/.cache/pip/wheels/5b/d7/0f/e58eae695403de585269f4e4a94e0cd6ca60ec0c202936fa4a\n",
      "  Building wheel for pyyaml (setup.py) ... \u001b[?25ldone\n",
      "\u001b[?25h  Stored in directory: /home/jovyan/.cache/pip/wheels/ad/da/0c/74eb680767247273e2cf2723482cb9c924fe70af57c334513f\n",
      "  Building wheel for httplib2 (setup.py) ... \u001b[?25ldone\n",
      "\u001b[?25h  Stored in directory: /home/jovyan/.cache/pip/wheels/6d/41/4b/2b369d6e2b7eaebcdd423516d3fb659c7658c16a2be8fd04ec\n"
     ]
    },
    {
     "name": "stdout",
     "output_type": "stream",
     "text": [
      "  Building wheel for oauth2client (setup.py) ... \u001b[?25ldone\n",
      "\u001b[?25h  Stored in directory: /home/jovyan/.cache/pip/wheels/48/f7/87/b932f09c6335dbcf45d916937105a372ab14f353a9ca431d7d\n",
      "  Building wheel for avro-python3 (setup.py) ... \u001b[?25ldone\n",
      "\u001b[?25h  Stored in directory: /home/jovyan/.cache/pip/wheels/b1/3c/45/8a3fff4129d91ff533c3e0db9cfbbb70dcb353584e22989574\n",
      "  Building wheel for hdfs (setup.py) ... \u001b[?25ldone\n",
      "\u001b[?25h  Stored in directory: /home/jovyan/.cache/pip/wheels/f5/1b/33/4814314f9c53e553978e5069e222e952f5473894a6cea8d07c\n",
      "  Building wheel for crcmod (setup.py) ... \u001b[?25ldone\n",
      "\u001b[?25h  Stored in directory: /home/jovyan/.cache/pip/wheels/50/24/4d/4580ca4a299f1ad6fd63443e6e584cb21e9a07988e4aa8daac\n",
      "  Building wheel for google-apitools (setup.py) ... \u001b[?25ldone\n",
      "\u001b[?25h  Stored in directory: /home/jovyan/.cache/pip/wheels/d6/c2/92/837e8a4d649a209dff85b38d7fbb576b4b480738be70865f29\n",
      "  Building wheel for docopt (setup.py) ... \u001b[?25ldone\n",
      "\u001b[?25h  Stored in directory: /home/jovyan/.cache/pip/wheels/9b/04/dd/7daf4150b6d9b12949298737de9431a324d4b797ffd63f526e\n",
      "  Building wheel for grpc-google-iam-v1 (setup.py) ... \u001b[?25ldone\n",
      "\u001b[?25h  Stored in directory: /home/jovyan/.cache/pip/wheels/b6/c6/31/c20321a5a3fde456fc375b7c2814135e6e98bc0d74c40239d9\n",
      "Successfully built tensorflow-transform pydot dill pyyaml httplib2 oauth2client avro-python3 hdfs crcmod google-apitools docopt grpc-google-iam-v1\n",
      "\u001b[31mkfp 0.1 has requirement google-cloud-storage==1.13.0, but you'll have google-cloud-storage 1.14.0 which is incompatible.\u001b[0m\n",
      "\u001b[31mkfp 0.1 has requirement kubernetes==8.0.0, but you'll have kubernetes 9.0.0 which is incompatible.\u001b[0m\n",
      "\u001b[31mfairing 0.5 has requirement oauth2client>=4.0.0, but you'll have oauth2client 3.0.0 which is incompatible.\u001b[0m\n",
      "Installing collected packages: joblib, scikit-learn, tensorflow-metadata, dill, pyyaml, httplib2, oauth2client, fastavro, avro-python3, pyparsing, pydot, pyarrow, docopt, hdfs, crcmod, google-cloud-datastore, grpc-google-iam-v1, google-cloud-bigtable, google-cloud-bigquery, google-cloud-pubsub, monotonic, fasteners, google-apitools, apache-beam, tensorflow-transform, pandas, tensorflow-data-validation\n",
      "  Found existing installation: PyYAML 5.1\n",
      "    Uninstalling PyYAML-5.1:\n",
      "      Successfully uninstalled PyYAML-5.1\n",
      "  Found existing installation: httplib2 0.12.1\n",
      "    Uninstalling httplib2-0.12.1:\n",
      "      Successfully uninstalled httplib2-0.12.1\n",
      "  Found existing installation: oauth2client 4.1.3\n",
      "    Uninstalling oauth2client-4.1.3:\n",
      "      Successfully uninstalled oauth2client-4.1.3\n",
      "Successfully installed apache-beam-2.13.0 avro-python3-1.9.0 crcmod-1.7 dill-0.2.9 docopt-0.6.2 fastavro-0.21.24 fasteners-0.15 google-apitools-0.5.28 google-cloud-bigquery-1.6.1 google-cloud-bigtable-0.32.2 google-cloud-datastore-1.7.4 google-cloud-pubsub-0.39.1 grpc-google-iam-v1-0.11.4 hdfs-2.5.5 httplib2-0.12.0 joblib-0.13.2 monotonic-1.5 oauth2client-3.0.0 pandas-0.24.2 pyarrow-0.13.0 pydot-1.2.4 pyparsing-2.4.0 pyyaml-3.13 scikit-learn-0.21.2 tensorflow-data-validation-0.13.1 tensorflow-metadata-0.13.0 tensorflow-transform-0.13.0\n",
      "\u001b[33mYou are using pip version 19.0.1, however version 19.1.1 is available.\n",
      "You should consider upgrading via the 'pip install --upgrade pip' command.\u001b[0m\n"
     ]
    }
   ],
   "source": [
    "!pip install tensorflow_data_validation==0.13.1"
   ]
  },
  {
   "cell_type": "code",
   "execution_count": 5,
   "metadata": {
    "colab": {},
    "colab_type": "code",
    "id": "gE-J0fCb431_"
   },
   "outputs": [
    {
     "name": "stderr",
     "output_type": "stream",
     "text": [
      "/opt/conda/lib/python3.6/site-packages/apache_beam/__init__.py:84: UserWarning: Running the Apache Beam SDK on Python 3 is not yet fully supported. You may encounter buggy behavior or missing features.\n",
      "  'Running the Apache Beam SDK on Python 3 is not yet fully supported. '\n"
     ]
    },
    {
     "name": "stdout",
     "output_type": "stream",
     "text": [
      "TFDV version: 0.13.1\n"
     ]
    }
   ],
   "source": [
    "import tensorflow as tf\n",
    "import tensorflow_data_validation as tfdv\n",
    "\n",
    "tf.logging.set_verbosity(tf.logging.ERROR)\n",
    "print('TFDV version: {}'.format(tfdv.version.__version__))"
   ]
  },
  {
   "cell_type": "markdown",
   "metadata": {
    "colab_type": "text",
    "id": "H0sFmiTbT8-x"
   },
   "source": [
    "## Compute and visualize statistics\n",
    "\n",
    "First we'll use [`tfdv.generate_statistics_from_csv`](https://www.tensorflow.org/tfx/data_validation/api_docs/python/tfdv/generate_statistics_from_csv) to compute statistics for our training data. (ignore the snappy warnings)\n",
    "\n",
    "TFDV can compute descriptive [statistics](https://github.com/tensorflow/metadata/blob/v0.6.0/tensorflow_metadata/proto/v0/statistics.proto) that provide a quick overview of the data in terms of the features that are present and the shapes of their value distributions.\n",
    "\n",
    "Internally, TFDV uses [Apache Beam](https://beam.apache.org/)'s data-parallel processing framework to scale the computation of statistics over large datasets. For applications that wish to integrate deeper with TFDV (e.g., attach statistics generation at the end of a data-generation pipeline), the API also exposes a Beam PTransform for statistics generation."
   ]
  },
  {
   "cell_type": "code",
   "execution_count": 9,
   "metadata": {
    "colab": {},
    "colab_type": "code",
    "id": "EE481oMbT-H0"
   },
   "outputs": [],
   "source": [
    "train_stats = tfdv.generate_statistics_from_csv(data_location=TRAIN_DATA)"
   ]
  },
  {
   "cell_type": "markdown",
   "metadata": {
    "colab_type": "text",
    "id": "JhXQSxJ2dB_6"
   },
   "source": [
    "Now let's use [`tfdv.visualize_statistics`](https://www.tensorflow.org/tfx/data_validation/api_docs/python/tfdv/visualize_statistics), which uses [Facets](https://pair-code.github.io/facets/) to create a succinct visualization of our training data:\n",
    "\n",
    "* Notice that numeric features and catagorical features are visualized separately, and that charts are displayed showing the distributions for each feature.\n",
    "* Notice that features with missing or zero values display a percentage in red as a visual indicator that there may be issues with examples in those features.  The percentage is the percentage of examples that have missing or zero values for that feature.\n",
    "* Notice that there are no examples with values for `pickup_census_tract`.  This is an opportunity for dimensionality reduction!\n",
    "* Try clicking \"expand\" above the charts to change the display\n",
    "* Try hovering over bars in the charts to display bucket ranges and counts\n",
    "* Try switching between the log and linear scales, and notice how the log scale reveals much more detail about the `payment_type` categorical feature\n",
    "* Try selecting \"quantiles\" from the \"Chart to show\" menu, and hover over the markers to show the quantile percentages"
   ]
  },
  {
   "cell_type": "code",
   "execution_count": 8,
   "metadata": {
    "colab": {},
    "colab_type": "code",
    "id": "U3tUKgh7Up3x"
   },
   "outputs": [
    {
     "data": {
      "text/html": [
       "<iframe id='facets-iframe' width=\"100%\" height=\"500px\"></iframe>\n",
       "        <script>\n",
       "        facets_iframe = document.getElementById('facets-iframe');\n",
       "        facets_html = '<link rel=\"import\" href=\"https://raw.githubusercontent.com/PAIR-code/facets/master/facets-dist/facets-jupyter.html\"><facets-overview proto-input=\"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\"></facets-overview>';\n",
       "        facets_iframe.contentWindow.document.write(facets_html);\n",
       "         facets_iframe.id = \"\";\n",
       "         setTimeout(() => {\n",
       "           facets_iframe.setAttribute('height', facets_iframe.contentWindow.document.body.offsetHeight + 'px')\n",
       "         }, 1500)\n",
       "         </script>"
      ],
      "text/plain": [
       "<IPython.core.display.HTML object>"
      ]
     },
     "metadata": {},
     "output_type": "display_data"
    }
   ],
   "source": [
    "tfdv.visualize_statistics(train_stats)"
   ]
  },
  {
   "cell_type": "markdown",
   "metadata": {
    "colab_type": "text",
    "id": "KVR02-y4V0uM"
   },
   "source": [
    "## Infer a schema\n",
    "\n",
    "Now let's use [`tfdv.infer_schema`](https://www.tensorflow.org/tfx/data_validation/api_docs/python/tfdv/infer_schema) to create a schema for our data.  A schema defines constraints for the data that are relevant for ML. Example constraints include the data type of each feature, whether it's numerical or categorical, or the frequency of its presence in the data.  For categorical features the schema also defines the domain - the list of acceptable values.  Since writing a schema can be a tedious task, especially for datasets with lots of features, TFDV provides a method to generate an initial version of the schema based on the descriptive statistics.\n",
    "\n",
    "Getting the schema right is important because the rest of our production pipeline will be relying on the schema that TFDV generates to be correct.  The schema also provides documentation for the data, and so is useful when different developers work on the same data.  Let's use [`tfdv.display_schema`](https://www.tensorflow.org/tfx/data_validation/api_docs/python/tfdv/display_schema) to display the inferred schema so that we can review it."
   ]
  },
  {
   "cell_type": "code",
   "execution_count": 10,
   "metadata": {
    "colab": {},
    "colab_type": "code",
    "id": "6LLkRJThVr9m"
   },
   "outputs": [
    {
     "data": {
      "text/html": [
       "<div>\n",
       "<style scoped>\n",
       "    .dataframe tbody tr th:only-of-type {\n",
       "        vertical-align: middle;\n",
       "    }\n",
       "\n",
       "    .dataframe tbody tr th {\n",
       "        vertical-align: top;\n",
       "    }\n",
       "\n",
       "    .dataframe thead th {\n",
       "        text-align: right;\n",
       "    }\n",
       "</style>\n",
       "<table border=\"1\" class=\"dataframe\">\n",
       "  <thead>\n",
       "    <tr style=\"text-align: right;\">\n",
       "      <th></th>\n",
       "      <th>Type</th>\n",
       "      <th>Presence</th>\n",
       "      <th>Valency</th>\n",
       "      <th>Domain</th>\n",
       "    </tr>\n",
       "    <tr>\n",
       "      <th>Feature name</th>\n",
       "      <th></th>\n",
       "      <th></th>\n",
       "      <th></th>\n",
       "      <th></th>\n",
       "    </tr>\n",
       "  </thead>\n",
       "  <tbody>\n",
       "    <tr>\n",
       "      <th>'payment_type'</th>\n",
       "      <td>STRING</td>\n",
       "      <td>required</td>\n",
       "      <td></td>\n",
       "      <td>'payment_type'</td>\n",
       "    </tr>\n",
       "    <tr>\n",
       "      <th>'company'</th>\n",
       "      <td>STRING</td>\n",
       "      <td>optional</td>\n",
       "      <td>single</td>\n",
       "      <td>'company'</td>\n",
       "    </tr>\n",
       "    <tr>\n",
       "      <th>'pickup_community_area'</th>\n",
       "      <td>INT</td>\n",
       "      <td>required</td>\n",
       "      <td></td>\n",
       "      <td>-</td>\n",
       "    </tr>\n",
       "    <tr>\n",
       "      <th>'fare'</th>\n",
       "      <td>FLOAT</td>\n",
       "      <td>required</td>\n",
       "      <td></td>\n",
       "      <td>-</td>\n",
       "    </tr>\n",
       "    <tr>\n",
       "      <th>'trip_start_month'</th>\n",
       "      <td>INT</td>\n",
       "      <td>required</td>\n",
       "      <td></td>\n",
       "      <td>-</td>\n",
       "    </tr>\n",
       "    <tr>\n",
       "      <th>'trip_start_hour'</th>\n",
       "      <td>INT</td>\n",
       "      <td>required</td>\n",
       "      <td></td>\n",
       "      <td>-</td>\n",
       "    </tr>\n",
       "    <tr>\n",
       "      <th>'trip_start_day'</th>\n",
       "      <td>INT</td>\n",
       "      <td>required</td>\n",
       "      <td></td>\n",
       "      <td>-</td>\n",
       "    </tr>\n",
       "    <tr>\n",
       "      <th>'trip_start_timestamp'</th>\n",
       "      <td>INT</td>\n",
       "      <td>required</td>\n",
       "      <td></td>\n",
       "      <td>-</td>\n",
       "    </tr>\n",
       "    <tr>\n",
       "      <th>'pickup_latitude'</th>\n",
       "      <td>FLOAT</td>\n",
       "      <td>required</td>\n",
       "      <td></td>\n",
       "      <td>-</td>\n",
       "    </tr>\n",
       "    <tr>\n",
       "      <th>'pickup_longitude'</th>\n",
       "      <td>FLOAT</td>\n",
       "      <td>required</td>\n",
       "      <td></td>\n",
       "      <td>-</td>\n",
       "    </tr>\n",
       "    <tr>\n",
       "      <th>'dropoff_latitude'</th>\n",
       "      <td>FLOAT</td>\n",
       "      <td>optional</td>\n",
       "      <td>single</td>\n",
       "      <td>-</td>\n",
       "    </tr>\n",
       "    <tr>\n",
       "      <th>'dropoff_longitude'</th>\n",
       "      <td>FLOAT</td>\n",
       "      <td>optional</td>\n",
       "      <td>single</td>\n",
       "      <td>-</td>\n",
       "    </tr>\n",
       "    <tr>\n",
       "      <th>'trip_miles'</th>\n",
       "      <td>FLOAT</td>\n",
       "      <td>required</td>\n",
       "      <td></td>\n",
       "      <td>-</td>\n",
       "    </tr>\n",
       "    <tr>\n",
       "      <th>'pickup_census_tract'</th>\n",
       "      <td>BYTES</td>\n",
       "      <td>optional</td>\n",
       "      <td></td>\n",
       "      <td>-</td>\n",
       "    </tr>\n",
       "    <tr>\n",
       "      <th>'dropoff_census_tract'</th>\n",
       "      <td>FLOAT</td>\n",
       "      <td>optional</td>\n",
       "      <td>single</td>\n",
       "      <td>-</td>\n",
       "    </tr>\n",
       "    <tr>\n",
       "      <th>'trip_seconds'</th>\n",
       "      <td>FLOAT</td>\n",
       "      <td>optional</td>\n",
       "      <td>single</td>\n",
       "      <td>-</td>\n",
       "    </tr>\n",
       "    <tr>\n",
       "      <th>'dropoff_community_area'</th>\n",
       "      <td>FLOAT</td>\n",
       "      <td>optional</td>\n",
       "      <td>single</td>\n",
       "      <td>-</td>\n",
       "    </tr>\n",
       "    <tr>\n",
       "      <th>'tips'</th>\n",
       "      <td>FLOAT</td>\n",
       "      <td>required</td>\n",
       "      <td></td>\n",
       "      <td>-</td>\n",
       "    </tr>\n",
       "  </tbody>\n",
       "</table>\n",
       "</div>"
      ],
      "text/plain": [
       "                            Type  Presence Valency          Domain\n",
       "Feature name                                                      \n",
       "'payment_type'            STRING  required          'payment_type'\n",
       "'company'                 STRING  optional  single       'company'\n",
       "'pickup_community_area'      INT  required                       -\n",
       "'fare'                     FLOAT  required                       -\n",
       "'trip_start_month'           INT  required                       -\n",
       "'trip_start_hour'            INT  required                       -\n",
       "'trip_start_day'             INT  required                       -\n",
       "'trip_start_timestamp'       INT  required                       -\n",
       "'pickup_latitude'          FLOAT  required                       -\n",
       "'pickup_longitude'         FLOAT  required                       -\n",
       "'dropoff_latitude'         FLOAT  optional  single               -\n",
       "'dropoff_longitude'        FLOAT  optional  single               -\n",
       "'trip_miles'               FLOAT  required                       -\n",
       "'pickup_census_tract'      BYTES  optional                       -\n",
       "'dropoff_census_tract'     FLOAT  optional  single               -\n",
       "'trip_seconds'             FLOAT  optional  single               -\n",
       "'dropoff_community_area'   FLOAT  optional  single               -\n",
       "'tips'                     FLOAT  required                       -"
      ]
     },
     "metadata": {},
     "output_type": "display_data"
    },
    {
     "data": {
      "text/html": [
       "<div>\n",
       "<style scoped>\n",
       "    .dataframe tbody tr th:only-of-type {\n",
       "        vertical-align: middle;\n",
       "    }\n",
       "\n",
       "    .dataframe tbody tr th {\n",
       "        vertical-align: top;\n",
       "    }\n",
       "\n",
       "    .dataframe thead th {\n",
       "        text-align: right;\n",
       "    }\n",
       "</style>\n",
       "<table border=\"1\" class=\"dataframe\">\n",
       "  <thead>\n",
       "    <tr style=\"text-align: right;\">\n",
       "      <th></th>\n",
       "      <th>Values</th>\n",
       "    </tr>\n",
       "    <tr>\n",
       "      <th>Domain</th>\n",
       "      <th></th>\n",
       "    </tr>\n",
       "  </thead>\n",
       "  <tbody>\n",
       "    <tr>\n",
       "      <th>'payment_type'</th>\n",
       "      <td>'Cash', 'Credit Card', 'Dispute', 'No Charge', 'Pcard', 'Unknown'</td>\n",
       "    </tr>\n",
       "    <tr>\n",
       "      <th>'company'</th>\n",
       "      <td>'0118 - 42111 Godfrey S.Awir', '0694 - 59280 Chinesco Trans Inc', '1085 - 72312 N and W Cab Co', '2733 - 74600 Benny Jona', '2809 - 95474 C &amp; D Cab Co Inc.', '3011 - 66308 JBL Cab Inc.', '3152 - 97284 Crystal Abernathy', '3201 - C&amp;D Cab Co Inc', '3201 - CID Cab Co Inc', '3253 - 91138 Gaither Cab Co.', '3385 - 23210 Eman Cab', '3623 - 72222 Arrington Enterprises', '3897 - Ilie Malec', '4053 - Adwar H. Nikola', '4197 - 41842 Royal Star', '4615 - 83503 Tyrone Henderson', '4615 - Tyrone Henderson', '4623 - Jay Kim', '5006 - 39261 Salifu Bawa', '5006 - Salifu Bawa', '5074 - 54002 Ahzmi Inc', '5074 - Ahzmi Inc', '5129 - 87128', '5129 - 98755 Mengisti Taxi', '5129 - Mengisti Taxi', '5724 - KYVI Cab Inc', '585 - Valley Cab Co', '5864 - 73614 Thomas Owusu', '5864 - Thomas Owusu', '5874 - 73628 Sergey Cab Corp.', '5997 - 65283 AW Services Inc.', '5997 - AW Services Inc.', '6488 - 83287 Zuha Taxi', '6743 - Luhak Corp', 'Blue Ribbon Taxi Association Inc.', 'C &amp; D Cab Co Inc', 'Chicago Elite Cab Corp.', 'Chicago Elite Cab Corp. (Chicago Carriag', 'Chicago Medallion Leasing INC', 'Chicago Medallion Management', 'Choice Taxi Association', 'Dispatch Taxi Affiliation', 'KOAM Taxi Association', 'Northwest Management LLC', 'Taxi Affiliation Services', 'Top Cab Affiliation'</td>\n",
       "    </tr>\n",
       "  </tbody>\n",
       "</table>\n",
       "</div>"
      ],
      "text/plain": [
       "                                                                                                                                                                                                                                                                                                                                                                                                                                                                                                                                                                                                                                                                                                                                                                                                                                                                                                                                                                                                                                                                                                                                                                                                                                                                                                                                    Values\n",
       "Domain                                                                                                                                                                                                                                                                                                                                                                                                                                                                                                                                                                                                                                                                                                                                                                                                                                                                                                                                                                                                                                                                                                                                                                                                                                                                                                                                    \n",
       "'payment_type'  'Cash', 'Credit Card', 'Dispute', 'No Charge', 'Pcard', 'Unknown'                                                                                                                                                                                                                                                                                                                                                                                                                                                                                                                                                                                                                                                                                                                                                                                                                                                                                                                                                                                                                                                                                                                                                                                                                                                         \n",
       "'company'       '0118 - 42111 Godfrey S.Awir', '0694 - 59280 Chinesco Trans Inc', '1085 - 72312 N and W Cab Co', '2733 - 74600 Benny Jona', '2809 - 95474 C & D Cab Co Inc.', '3011 - 66308 JBL Cab Inc.', '3152 - 97284 Crystal Abernathy', '3201 - C&D Cab Co Inc', '3201 - CID Cab Co Inc', '3253 - 91138 Gaither Cab Co.', '3385 - 23210 Eman Cab', '3623 - 72222 Arrington Enterprises', '3897 - Ilie Malec', '4053 - Adwar H. Nikola', '4197 - 41842 Royal Star', '4615 - 83503 Tyrone Henderson', '4615 - Tyrone Henderson', '4623 - Jay Kim', '5006 - 39261 Salifu Bawa', '5006 - Salifu Bawa', '5074 - 54002 Ahzmi Inc', '5074 - Ahzmi Inc', '5129 - 87128', '5129 - 98755 Mengisti Taxi', '5129 - Mengisti Taxi', '5724 - KYVI Cab Inc', '585 - Valley Cab Co', '5864 - 73614 Thomas Owusu', '5864 - Thomas Owusu', '5874 - 73628 Sergey Cab Corp.', '5997 - 65283 AW Services Inc.', '5997 - AW Services Inc.', '6488 - 83287 Zuha Taxi', '6743 - Luhak Corp', 'Blue Ribbon Taxi Association Inc.', 'C & D Cab Co Inc', 'Chicago Elite Cab Corp.', 'Chicago Elite Cab Corp. (Chicago Carriag', 'Chicago Medallion Leasing INC', 'Chicago Medallion Management', 'Choice Taxi Association', 'Dispatch Taxi Affiliation', 'KOAM Taxi Association', 'Northwest Management LLC', 'Taxi Affiliation Services', 'Top Cab Affiliation'"
      ]
     },
     "metadata": {},
     "output_type": "display_data"
    }
   ],
   "source": [
    "schema = tfdv.infer_schema(statistics=train_stats)\n",
    "tfdv.display_schema(schema=schema)"
   ]
  },
  {
   "cell_type": "markdown",
   "metadata": {
    "colab_type": "text",
    "id": "ZVa3EXE8WEDE"
   },
   "source": [
    "## Check evaluation data for errors\n",
    "\n",
    "So far we've only been looking at the training data.  It's important that our evaluation data is consistent with our training data, including that it uses the same schema.  It's also important that the evaluation data includes examples of roughly the same ranges of values for our numerical features as our training data, so that our coverage of the loss surface during evaluation is roughly the same as during training.  The same is true for categorical features.  Otherwise, we may have training issues that are not identified during evaluation, because we didn't evaluate part of our loss surface.\n",
    "\n",
    "* Notice that each feature now includes statistics for both the training and evaluation datasets.\n",
    "* Notice that the charts now have both the training and evaluation datasets overlaid, making it easy to compare them.\n",
    "* Notice that the charts now include a percentages view, which can be combined with log or the default linear scales.\n",
    "* Notice that the mean and median for `trip_miles` are different for the training versus the evaluation datasets.  Will that cause problems?\n",
    "* Wow, the max `tips` is very different for the training versus the evaluation datasets.  Will that cause problems?\n",
    "* Click expand on the Numeric Features chart, and select the log scale.  Review the `trip_seconds` feature, and notice the difference in the max.  Will evaluation miss parts of the loss surface?"
   ]
  },
  {
   "cell_type": "code",
   "execution_count": 16,
   "metadata": {
    "colab": {},
    "colab_type": "code",
    "id": "j_P0RLYlV6XG"
   },
   "outputs": [
    {
     "data": {
      "text/html": [
       "<iframe id='facets-iframe' width=\"100%\" height=\"500px\"></iframe>\n",
       "        <script>\n",
       "        facets_iframe = document.getElementById('facets-iframe');\n",
       "        facets_html = '<link rel=\"import\" href=\"https://raw.githubusercontent.com/PAIR-code/facets/master/facets-dist/facets-jupyter.html\"><facets-overview proto-input=\"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\"></facets-overview>';\n",
       "        facets_iframe.contentWindow.document.write(facets_html);\n",
       "         facets_iframe.id = \"\";\n",
       "         setTimeout(() => {\n",
       "           facets_iframe.setAttribute('height', facets_iframe.contentWindow.document.body.offsetHeight + 'px')\n",
       "         }, 1500)\n",
       "         </script>"
      ],
      "text/plain": [
       "<IPython.core.display.HTML object>"
      ]
     },
     "metadata": {},
     "output_type": "display_data"
    }
   ],
   "source": [
    "# Compute stats for evaluation data\n",
    "eval_stats = tfdv.generate_statistics_from_csv(data_location=EVAL_DATA)\n",
    "\n",
    "# Compare evaluation data with training data\n",
    "tfdv.visualize_statistics(lhs_statistics=eval_stats, rhs_statistics=train_stats,\n",
    "                          lhs_name='EVAL_DATASET', rhs_name='TRAIN_DATASET')"
   ]
  },
  {
   "cell_type": "markdown",
   "metadata": {
    "colab_type": "text",
    "id": "ycRRa4leHp84"
   },
   "source": [
    "## Check for evaluation anomalies\n",
    "\n",
    "Does our evaluation dataset match the schema from our training dataset?  This is especially important for categorical features, where we want to identify the range of acceptable values.\n",
    "\n",
    "Key Point: What would happen if we tried to evaluate using data with categorical feature values that were not in our training dataset?  What about numeric features that are outside the ranges in our training dataset?"
   ]
  },
  {
   "cell_type": "code",
   "execution_count": 17,
   "metadata": {
    "colab": {},
    "colab_type": "code",
    "id": "T7uGVeL2WOam"
   },
   "outputs": [
    {
     "data": {
      "text/html": [
       "<h4 style=\"color:green;\">No anomalies found.</h4>"
      ],
      "text/plain": [
       "<IPython.core.display.HTML object>"
      ]
     },
     "metadata": {},
     "output_type": "display_data"
    }
   ],
   "source": [
    "# Check eval data for errors by validating the eval data stats using the previously inferred schema.\n",
    "anomalies = tfdv.validate_statistics(statistics=eval_stats, schema=schema)\n",
    "tfdv.display_anomalies(anomalies)"
   ]
  },
  {
   "cell_type": "markdown",
   "metadata": {
    "colab_type": "text",
    "id": "dzxx1gBpJIBa"
   },
   "source": [
    "## Fix evaluation anomalies in the schema\n",
    "\n",
    "Oops!  It looks like we have some new values for `company` in our evaluation data, that we didn't have in our training data.  We also have a new value for `payment_type`.  These should be considered anomalies, but what we decide to do about them depends on our domain knowledge of the data.  If an anomaly truly indicates a data error, then the underlying data should be fixed.  Otherwise, we can simply update the schema to include the values in the eval dataset.\n",
    "\n",
    "Key Point: How would our evaluation results be affected if we did not fix these problems?\n",
    "\n",
    "Unless we change our evaluation dataset we can't fix everything, but we can fix things in the schema that we're comfortable accepting.  That includes relaxing our view of what is and what is not an anomaly for particular features, as well as updating our schema to include missing values for categorical features.  TFDV has enabled us to discover what we need to fix.\n",
    "\n",
    "Let's make those fixes now, and then review one more time."
   ]
  },
  {
   "cell_type": "code",
   "execution_count": 18,
   "metadata": {
    "colab": {},
    "colab_type": "code",
    "id": "legN2nXLWZAc"
   },
   "outputs": [
    {
     "data": {
      "text/html": [
       "<h4 style=\"color:green;\">No anomalies found.</h4>"
      ],
      "text/plain": [
       "<IPython.core.display.HTML object>"
      ]
     },
     "metadata": {},
     "output_type": "display_data"
    }
   ],
   "source": [
    "# Relax the minimum fraction of values that must come from the domain for feature company.\n",
    "company = tfdv.get_feature(schema, 'company')\n",
    "company.distribution_constraints.min_domain_mass = 0.9\n",
    "\n",
    "# Add new value to the domain of feature payment_type.\n",
    "payment_type_domain = tfdv.get_domain(schema, 'payment_type')\n",
    "payment_type_domain.value.append('Prcard')\n",
    "\n",
    "# Validate eval stats after updating the schema \n",
    "updated_anomalies = tfdv.validate_statistics(eval_stats, schema)\n",
    "tfdv.display_anomalies(updated_anomalies)"
   ]
  },
  {
   "cell_type": "markdown",
   "metadata": {
    "colab_type": "text",
    "id": "xNo72YP9LN98"
   },
   "source": [
    "Hey, look at that!  We verified that the training and evaluation data are now consistent!  Thanks TFDV ;)"
   ]
  },
  {
   "cell_type": "markdown",
   "metadata": {
    "colab_type": "text",
    "id": "KZ1P4ucHJj5o"
   },
   "source": [
    "## Schema Environments"
   ]
  },
  {
   "cell_type": "markdown",
   "metadata": {
    "colab_type": "text",
    "id": "qb179jczJppA"
   },
   "source": [
    "We also split off a 'serving' dataset for this example, so we should check that too.  By default all datasets in a pipeline should use the same schema, but there are often exceptions. For example, in supervised learning we need to include labels in our dataset, but when we serve the model for inference the labels will not be included. In some cases introducing slight schema variations is necessary.\n",
    "\n",
    "**Environments** can be used to express such requirements. In particular, features in schema can be associated with a set of environments using `default_environment`, `in_environment` and `not_in_environment`.\n",
    "\n",
    "For example, in this dataset the `tips` feature is included as the label for training, but it's missing in the serving data. Without environment specified, it will show up as an anomaly."
   ]
  },
  {
   "cell_type": "code",
   "execution_count": 19,
   "metadata": {
    "colab": {},
    "colab_type": "code",
    "id": "wSZfbnifJuTA"
   },
   "outputs": [
    {
     "data": {
      "text/html": [
       "<div>\n",
       "<style scoped>\n",
       "    .dataframe tbody tr th:only-of-type {\n",
       "        vertical-align: middle;\n",
       "    }\n",
       "\n",
       "    .dataframe tbody tr th {\n",
       "        vertical-align: top;\n",
       "    }\n",
       "\n",
       "    .dataframe thead th {\n",
       "        text-align: right;\n",
       "    }\n",
       "</style>\n",
       "<table border=\"1\" class=\"dataframe\">\n",
       "  <thead>\n",
       "    <tr style=\"text-align: right;\">\n",
       "      <th></th>\n",
       "      <th>Anomaly short description</th>\n",
       "      <th>Anomaly long description</th>\n",
       "    </tr>\n",
       "    <tr>\n",
       "      <th>Feature name</th>\n",
       "      <th></th>\n",
       "      <th></th>\n",
       "    </tr>\n",
       "  </thead>\n",
       "  <tbody>\n",
       "    <tr>\n",
       "      <th>'trip_seconds'</th>\n",
       "      <td>Expected data of type: FLOAT but got INT</td>\n",
       "      <td></td>\n",
       "    </tr>\n",
       "    <tr>\n",
       "      <th>'tips'</th>\n",
       "      <td>Column dropped</td>\n",
       "      <td>Column is completely missing</td>\n",
       "    </tr>\n",
       "  </tbody>\n",
       "</table>\n",
       "</div>"
      ],
      "text/plain": [
       "                               Anomaly short description  \\\n",
       "Feature name                                               \n",
       "'trip_seconds'  Expected data of type: FLOAT but got INT   \n",
       "'tips'          Column dropped                             \n",
       "\n",
       "                    Anomaly long description  \n",
       "Feature name                                  \n",
       "'trip_seconds'                                \n",
       "'tips'          Column is completely missing  "
      ]
     },
     "metadata": {},
     "output_type": "display_data"
    }
   ],
   "source": [
    "serving_stats = tfdv.generate_statistics_from_csv(SERVING_DATA)\n",
    "serving_anomalies = tfdv.validate_statistics(serving_stats, schema)\n",
    "\n",
    "tfdv.display_anomalies(serving_anomalies)"
   ]
  },
  {
   "cell_type": "markdown",
   "metadata": {
    "colab_type": "text",
    "id": "FDYHvZ09LfkT"
   },
   "source": [
    "We'll deal with the `tips` feature below.  We also have an INT value in our trip seconds, where our schema expected a FLOAT. By making us aware of that difference, TFDV helps uncover inconsistencies in the way the data is generated for training and serving. It's very easy to be unaware of problems like that until model performance suffers, sometimes catastrophically. It may or may not be a significant issue, but in any case this should be cause for further investigation.\n",
    "\n",
    "In this case, we can safely convert INT values to FLOATs, so we want to tell TFDV to use our schema to infer the type.  Let's do that now."
   ]
  },
  {
   "cell_type": "code",
   "execution_count": 20,
   "metadata": {
    "colab": {},
    "colab_type": "code",
    "id": "OhtYF8aAczpd"
   },
   "outputs": [
    {
     "data": {
      "text/html": [
       "<div>\n",
       "<style scoped>\n",
       "    .dataframe tbody tr th:only-of-type {\n",
       "        vertical-align: middle;\n",
       "    }\n",
       "\n",
       "    .dataframe tbody tr th {\n",
       "        vertical-align: top;\n",
       "    }\n",
       "\n",
       "    .dataframe thead th {\n",
       "        text-align: right;\n",
       "    }\n",
       "</style>\n",
       "<table border=\"1\" class=\"dataframe\">\n",
       "  <thead>\n",
       "    <tr style=\"text-align: right;\">\n",
       "      <th></th>\n",
       "      <th>Anomaly short description</th>\n",
       "      <th>Anomaly long description</th>\n",
       "    </tr>\n",
       "    <tr>\n",
       "      <th>Feature name</th>\n",
       "      <th></th>\n",
       "      <th></th>\n",
       "    </tr>\n",
       "  </thead>\n",
       "  <tbody>\n",
       "    <tr>\n",
       "      <th>'tips'</th>\n",
       "      <td>Column dropped</td>\n",
       "      <td>Column is completely missing</td>\n",
       "    </tr>\n",
       "  </tbody>\n",
       "</table>\n",
       "</div>"
      ],
      "text/plain": [
       "             Anomaly short description      Anomaly long description\n",
       "Feature name                                                        \n",
       "'tips'        Column dropped            Column is completely missing"
      ]
     },
     "metadata": {},
     "output_type": "display_data"
    }
   ],
   "source": [
    "options = tfdv.StatsOptions(schema=schema, infer_type_from_schema=True)\n",
    "serving_stats = tfdv.generate_statistics_from_csv(SERVING_DATA, stats_options=options)\n",
    "serving_anomalies = tfdv.validate_statistics(serving_stats, schema)\n",
    "\n",
    "tfdv.display_anomalies(serving_anomalies)"
   ]
  },
  {
   "cell_type": "markdown",
   "metadata": {
    "colab_type": "text",
    "id": "bJjh5rigc5xy"
   },
   "source": [
    "Now we just have the `tips` feature (which is our label) showing up as an anomaly ('Column dropped').  Of course we don't expect to have labels in our serving data, so let's tell TFDV to ignore that."
   ]
  },
  {
   "cell_type": "code",
   "execution_count": 21,
   "metadata": {
    "colab": {},
    "colab_type": "code",
    "id": "bnbnw8H6Lp2M"
   },
   "outputs": [
    {
     "data": {
      "text/html": [
       "<h4 style=\"color:green;\">No anomalies found.</h4>"
      ],
      "text/plain": [
       "<IPython.core.display.HTML object>"
      ]
     },
     "metadata": {},
     "output_type": "display_data"
    }
   ],
   "source": [
    "# All features are by default in both TRAINING and SERVING environments.\n",
    "schema.default_environment.append('TRAINING')\n",
    "schema.default_environment.append('SERVING')\n",
    "\n",
    "# Specify that 'tips' feature is not in SERVING environment.\n",
    "tfdv.get_feature(schema, 'tips').not_in_environment.append('SERVING')\n",
    "\n",
    "serving_anomalies_with_env = tfdv.validate_statistics(\n",
    "    serving_stats, schema, environment='SERVING')\n",
    "\n",
    "tfdv.display_anomalies(serving_anomalies_with_env)"
   ]
  },
  {
   "cell_type": "markdown",
   "metadata": {
    "colab_type": "text",
    "id": "yteMr3AGMYEp"
   },
   "source": [
    "## Check for drift and skew"
   ]
  },
  {
   "cell_type": "markdown",
   "metadata": {
    "colab_type": "text",
    "id": "8Ftd5k6AMkPV"
   },
   "source": [
    "In addition to checking whether a dataset conforms to the expectations set in the schema, TFDV also provides functionalities to detect drift and skew.  TFDV performs this check by comparing the statistics of the different datasets based on the drift/skew comparators specified in the schema.\n",
    "\n",
    "### Drift\n",
    "\n",
    "Drift detection is supported for categorical features and between consecutive spans of data (i.e., between span N and span N+1), such as between different days of training data.  We express drift in terms of [L-infinity distance](https://en.wikipedia.org/wiki/Chebyshev_distance), and you can set the threshold distance so that you receive warnings when the drift is higher than is acceptable.  Setting the correct distance is typically an iterative process requiring domain knowledge and experimentation."
   ]
  },
  {
   "cell_type": "markdown",
   "metadata": {
    "colab_type": "text",
    "id": "eBFuLpXb6qSp"
   },
   "source": [
    "### Skew\n",
    "\n",
    "TFDV can detect three different kinds of skew in your data - schema skew, feature skew, and distribution skew.\n",
    "\n",
    "#### Schema Skew\n",
    "\n",
    "Schema skew occurs when the training and serving data do not conform to the same schema. Both training and serving data are expected to adhere to the same schema. Any expected deviations between the two (such as the label feature being only present in the training data but not in serving) should be specified through environments field in the schema.\n",
    "\n",
    "#### Feature Skew\n",
    "\n",
    "Feature skew occurs when the feature values that a model trains on are different from the feature values that it sees at serving time. For example, this can happen when:\n",
    "\n",
    "* A data source that provides some feature values is modified between training and serving time\n",
    "* There is different logic for generating features between training and serving. For example, if you apply some transformation only in one of the two code paths.\n",
    "\n",
    "#### Distribution Skew\n",
    "\n",
    "Distribution skew occurs when the distribution of the training dataset is significantly different from the distribution of the serving dataset. One of the key causes for distribution skew is using different code or different data sources to generate the training dataset. Another reason is a faulty sampling mechanism that chooses a non-representative subsample of the serving data to train on."
   ]
  },
  {
   "cell_type": "code",
   "execution_count": 22,
   "metadata": {
    "colab": {},
    "colab_type": "code",
    "id": "wEUsZm_rOd1Q"
   },
   "outputs": [
    {
     "data": {
      "text/html": [
       "<div>\n",
       "<style scoped>\n",
       "    .dataframe tbody tr th:only-of-type {\n",
       "        vertical-align: middle;\n",
       "    }\n",
       "\n",
       "    .dataframe tbody tr th {\n",
       "        vertical-align: top;\n",
       "    }\n",
       "\n",
       "    .dataframe thead th {\n",
       "        text-align: right;\n",
       "    }\n",
       "</style>\n",
       "<table border=\"1\" class=\"dataframe\">\n",
       "  <thead>\n",
       "    <tr style=\"text-align: right;\">\n",
       "      <th></th>\n",
       "      <th>Anomaly short description</th>\n",
       "      <th>Anomaly long description</th>\n",
       "    </tr>\n",
       "    <tr>\n",
       "      <th>Feature name</th>\n",
       "      <th></th>\n",
       "      <th></th>\n",
       "    </tr>\n",
       "  </thead>\n",
       "  <tbody>\n",
       "    <tr>\n",
       "      <th>'company'</th>\n",
       "      <td>High Linfty distance between current and previous</td>\n",
       "      <td>The Linfty distance between current and previous is 0.00820891 (up to six significant digits), above the threshold 0.001. The feature value with maximum difference is: Blue Ribbon Taxi Association Inc.</td>\n",
       "    </tr>\n",
       "    <tr>\n",
       "      <th>'payment_type'</th>\n",
       "      <td>High Linfty distance between serving and training</td>\n",
       "      <td>The Linfty distance between serving and training is 0.0225 (up to six significant digits), above the threshold 0.01. The feature value with maximum difference is: Credit Card</td>\n",
       "    </tr>\n",
       "  </tbody>\n",
       "</table>\n",
       "</div>"
      ],
      "text/plain": [
       "                                        Anomaly short description  \\\n",
       "Feature name                                                        \n",
       "'company'       High Linfty distance between current and previous   \n",
       "'payment_type'  High Linfty distance between serving and training   \n",
       "\n",
       "                                                                                                                                                                                                 Anomaly long description  \n",
       "Feature name                                                                                                                                                                                                               \n",
       "'company'       The Linfty distance between current and previous is 0.00820891 (up to six significant digits), above the threshold 0.001. The feature value with maximum difference is: Blue Ribbon Taxi Association Inc.  \n",
       "'payment_type'  The Linfty distance between serving and training is 0.0225 (up to six significant digits), above the threshold 0.01. The feature value with maximum difference is: Credit Card                             "
      ]
     },
     "metadata": {},
     "output_type": "display_data"
    }
   ],
   "source": [
    "# Add skew comparator for 'payment_type' feature.\n",
    "payment_type = tfdv.get_feature(schema, 'payment_type')\n",
    "payment_type.skew_comparator.infinity_norm.threshold = 0.01\n",
    "\n",
    "# Add drift comparator for 'company' feature.\n",
    "company=tfdv.get_feature(schema, 'company')\n",
    "company.drift_comparator.infinity_norm.threshold = 0.001\n",
    "\n",
    "skew_anomalies = tfdv.validate_statistics(train_stats, schema,\n",
    "                                          previous_statistics=eval_stats,\n",
    "                                          serving_statistics=serving_stats)\n",
    "\n",
    "tfdv.display_anomalies(skew_anomalies)"
   ]
  },
  {
   "cell_type": "markdown",
   "metadata": {
    "colab_type": "text",
    "id": "1GzbbsPgf0Bg"
   },
   "source": [
    "In this example we do see some drift, but it is well below the threshold that we've set."
   ]
  },
  {
   "cell_type": "markdown",
   "metadata": {
    "colab_type": "text",
    "id": "wJ5saC9eWvHx"
   },
   "source": [
    "## Freeze the schema\n",
    "\n",
    "Now that the schema has been reviewed and curated, we will store it in a file to reflect its \"frozen\" state."
   ]
  },
  {
   "cell_type": "code",
   "execution_count": 23,
   "metadata": {
    "colab": {},
    "colab_type": "code",
    "id": "ydkL4DkIWn18"
   },
   "outputs": [
    {
     "name": "stdout",
     "output_type": "stream",
     "text": [
      "feature {\r\n",
      "  name: \"payment_type\"\r\n",
      "  type: BYTES\r\n",
      "  domain: \"payment_type\"\r\n",
      "  presence {\r\n",
      "    min_fraction: 1.0\r\n",
      "    min_count: 1\r\n",
      "  }\r\n",
      "  skew_comparator {\r\n",
      "    infinity_norm {\r\n",
      "      threshold: 0.01\r\n",
      "    }\r\n",
      "  }\r\n",
      "  shape {\r\n",
      "    dim {\r\n",
      "      size: 1\r\n",
      "    }\r\n",
      "  }\r\n",
      "}\r\n",
      "feature {\r\n",
      "  name: \"company\"\r\n",
      "  value_count {\r\n",
      "    min: 1\r\n",
      "    max: 1\r\n",
      "  }\r\n",
      "  type: BYTES\r\n",
      "  domain: \"company\"\r\n",
      "  presence {\r\n",
      "    min_count: 1\r\n",
      "  }\r\n",
      "  distribution_constraints {\r\n",
      "    min_domain_mass: 0.9\r\n",
      "  }\r\n",
      "  drift_comparator {\r\n",
      "    infinity_norm {\r\n",
      "      threshold: 0.001\r\n",
      "    }\r\n",
      "  }\r\n",
      "}\r\n",
      "feature {\r\n",
      "  name: \"pickup_community_area\"\r\n",
      "  type: INT\r\n",
      "  presence {\r\n",
      "    min_fraction: 1.0\r\n",
      "    min_count: 1\r\n",
      "  }\r\n",
      "  shape {\r\n",
      "    dim {\r\n",
      "      size: 1\r\n",
      "    }\r\n",
      "  }\r\n",
      "}\r\n",
      "feature {\r\n",
      "  name: \"fare\"\r\n",
      "  type: FLOAT\r\n",
      "  presence {\r\n",
      "    min_fraction: 1.0\r\n",
      "    min_count: 1\r\n",
      "  }\r\n",
      "  shape {\r\n",
      "    dim {\r\n",
      "      size: 1\r\n",
      "    }\r\n",
      "  }\r\n",
      "}\r\n",
      "feature {\r\n",
      "  name: \"trip_start_month\"\r\n",
      "  type: INT\r\n",
      "  presence {\r\n",
      "    min_fraction: 1.0\r\n",
      "    min_count: 1\r\n",
      "  }\r\n",
      "  shape {\r\n",
      "    dim {\r\n",
      "      size: 1\r\n",
      "    }\r\n",
      "  }\r\n",
      "}\r\n",
      "feature {\r\n",
      "  name: \"trip_start_hour\"\r\n",
      "  type: INT\r\n",
      "  presence {\r\n",
      "    min_fraction: 1.0\r\n",
      "    min_count: 1\r\n",
      "  }\r\n",
      "  shape {\r\n",
      "    dim {\r\n",
      "      size: 1\r\n",
      "    }\r\n",
      "  }\r\n",
      "}\r\n",
      "feature {\r\n",
      "  name: \"trip_start_day\"\r\n",
      "  type: INT\r\n",
      "  presence {\r\n",
      "    min_fraction: 1.0\r\n",
      "    min_count: 1\r\n",
      "  }\r\n",
      "  shape {\r\n",
      "    dim {\r\n",
      "      size: 1\r\n",
      "    }\r\n",
      "  }\r\n",
      "}\r\n",
      "feature {\r\n",
      "  name: \"trip_start_timestamp\"\r\n",
      "  type: INT\r\n",
      "  presence {\r\n",
      "    min_fraction: 1.0\r\n",
      "    min_count: 1\r\n",
      "  }\r\n",
      "  shape {\r\n",
      "    dim {\r\n",
      "      size: 1\r\n",
      "    }\r\n",
      "  }\r\n",
      "}\r\n",
      "feature {\r\n",
      "  name: \"pickup_latitude\"\r\n",
      "  type: FLOAT\r\n",
      "  presence {\r\n",
      "    min_fraction: 1.0\r\n",
      "    min_count: 1\r\n",
      "  }\r\n",
      "  shape {\r\n",
      "    dim {\r\n",
      "      size: 1\r\n",
      "    }\r\n",
      "  }\r\n",
      "}\r\n",
      "feature {\r\n",
      "  name: \"pickup_longitude\"\r\n",
      "  type: FLOAT\r\n",
      "  presence {\r\n",
      "    min_fraction: 1.0\r\n",
      "    min_count: 1\r\n",
      "  }\r\n",
      "  shape {\r\n",
      "    dim {\r\n",
      "      size: 1\r\n",
      "    }\r\n",
      "  }\r\n",
      "}\r\n",
      "feature {\r\n",
      "  name: \"dropoff_latitude\"\r\n",
      "  value_count {\r\n",
      "    min: 1\r\n",
      "    max: 1\r\n",
      "  }\r\n",
      "  type: FLOAT\r\n",
      "  presence {\r\n",
      "    min_count: 1\r\n",
      "  }\r\n",
      "}\r\n",
      "feature {\r\n",
      "  name: \"dropoff_longitude\"\r\n",
      "  value_count {\r\n",
      "    min: 1\r\n",
      "    max: 1\r\n",
      "  }\r\n",
      "  type: FLOAT\r\n",
      "  presence {\r\n",
      "    min_count: 1\r\n",
      "  }\r\n",
      "}\r\n",
      "feature {\r\n",
      "  name: \"trip_miles\"\r\n",
      "  type: FLOAT\r\n",
      "  presence {\r\n",
      "    min_fraction: 1.0\r\n",
      "    min_count: 1\r\n",
      "  }\r\n",
      "  shape {\r\n",
      "    dim {\r\n",
      "      size: 1\r\n",
      "    }\r\n",
      "  }\r\n",
      "}\r\n",
      "feature {\r\n",
      "  name: \"pickup_census_tract\"\r\n",
      "  type: BYTES\r\n",
      "  presence {\r\n",
      "    min_count: 0\r\n",
      "  }\r\n",
      "}\r\n",
      "feature {\r\n",
      "  name: \"dropoff_census_tract\"\r\n",
      "  value_count {\r\n",
      "    min: 1\r\n",
      "    max: 1\r\n",
      "  }\r\n",
      "  type: FLOAT\r\n",
      "  presence {\r\n",
      "    min_count: 1\r\n",
      "  }\r\n",
      "}\r\n",
      "feature {\r\n",
      "  name: \"trip_seconds\"\r\n",
      "  value_count {\r\n",
      "    min: 1\r\n",
      "    max: 1\r\n",
      "  }\r\n",
      "  type: FLOAT\r\n",
      "  presence {\r\n",
      "    min_count: 1\r\n",
      "  }\r\n",
      "}\r\n",
      "feature {\r\n",
      "  name: \"dropoff_community_area\"\r\n",
      "  value_count {\r\n",
      "    min: 1\r\n",
      "    max: 1\r\n",
      "  }\r\n",
      "  type: FLOAT\r\n",
      "  presence {\r\n",
      "    min_count: 1\r\n",
      "  }\r\n",
      "}\r\n",
      "feature {\r\n",
      "  name: \"tips\"\r\n",
      "  type: FLOAT\r\n",
      "  presence {\r\n",
      "    min_fraction: 1.0\r\n",
      "    min_count: 1\r\n",
      "  }\r\n",
      "  not_in_environment: \"SERVING\"\r\n",
      "  not_in_environment: \"SERVING\"\r\n",
      "  shape {\r\n",
      "    dim {\r\n",
      "      size: 1\r\n",
      "    }\r\n",
      "  }\r\n",
      "}\r\n",
      "string_domain {\r\n",
      "  name: \"payment_type\"\r\n",
      "  value: \"Cash\"\r\n",
      "  value: \"Credit Card\"\r\n",
      "  value: \"Dispute\"\r\n",
      "  value: \"No Charge\"\r\n",
      "  value: \"Pcard\"\r\n",
      "  value: \"Unknown\"\r\n",
      "  value: \"Prcard\"\r\n",
      "  value: \"Prcard\"\r\n",
      "}\r\n",
      "string_domain {\r\n",
      "  name: \"company\"\r\n",
      "  value: \"0118 - 42111 Godfrey S.Awir\"\r\n",
      "  value: \"0694 - 59280 Chinesco Trans Inc\"\r\n",
      "  value: \"1085 - 72312 N and W Cab Co\"\r\n",
      "  value: \"2733 - 74600 Benny Jona\"\r\n",
      "  value: \"2809 - 95474 C & D Cab Co Inc.\"\r\n",
      "  value: \"3011 - 66308 JBL Cab Inc.\"\r\n",
      "  value: \"3152 - 97284 Crystal Abernathy\"\r\n",
      "  value: \"3201 - C&D Cab Co Inc\"\r\n",
      "  value: \"3201 - CID Cab Co Inc\"\r\n",
      "  value: \"3253 - 91138 Gaither Cab Co.\"\r\n",
      "  value: \"3385 - 23210 Eman Cab\"\r\n",
      "  value: \"3623 - 72222 Arrington Enterprises\"\r\n",
      "  value: \"3897 - Ilie Malec\"\r\n",
      "  value: \"4053 - Adwar H. Nikola\"\r\n",
      "  value: \"4197 - 41842 Royal Star\"\r\n",
      "  value: \"4615 - 83503 Tyrone Henderson\"\r\n",
      "  value: \"4615 - Tyrone Henderson\"\r\n",
      "  value: \"4623 - Jay Kim\"\r\n",
      "  value: \"5006 - 39261 Salifu Bawa\"\r\n",
      "  value: \"5006 - Salifu Bawa\"\r\n",
      "  value: \"5074 - 54002 Ahzmi Inc\"\r\n",
      "  value: \"5074 - Ahzmi Inc\"\r\n",
      "  value: \"5129 - 87128\"\r\n",
      "  value: \"5129 - 98755 Mengisti Taxi\"\r\n",
      "  value: \"5129 - Mengisti Taxi\"\r\n",
      "  value: \"5724 - KYVI Cab Inc\"\r\n",
      "  value: \"585 - Valley Cab Co\"\r\n",
      "  value: \"5864 - 73614 Thomas Owusu\"\r\n",
      "  value: \"5864 - Thomas Owusu\"\r\n",
      "  value: \"5874 - 73628 Sergey Cab Corp.\"\r\n",
      "  value: \"5997 - 65283 AW Services Inc.\"\r\n",
      "  value: \"5997 - AW Services Inc.\"\r\n",
      "  value: \"6488 - 83287 Zuha Taxi\"\r\n",
      "  value: \"6743 - Luhak Corp\"\r\n",
      "  value: \"Blue Ribbon Taxi Association Inc.\"\r\n",
      "  value: \"C & D Cab Co Inc\"\r\n",
      "  value: \"Chicago Elite Cab Corp.\"\r\n",
      "  value: \"Chicago Elite Cab Corp. (Chicago Carriag\"\r\n",
      "  value: \"Chicago Medallion Leasing INC\"\r\n",
      "  value: \"Chicago Medallion Management\"\r\n",
      "  value: \"Choice Taxi Association\"\r\n",
      "  value: \"Dispatch Taxi Affiliation\"\r\n",
      "  value: \"KOAM Taxi Association\"\r\n",
      "  value: \"Northwest Management LLC\"\r\n",
      "  value: \"Taxi Affiliation Services\"\r\n",
      "  value: \"Top Cab Affiliation\"\r\n",
      "}\r\n",
      "default_environment: \"TRAINING\"\r\n",
      "default_environment: \"SERVING\"\r\n",
      "default_environment: \"TRAINING\"\r\n",
      "default_environment: \"SERVING\"\r\n"
     ]
    }
   ],
   "source": [
    "from tensorflow.python.lib.io import file_io\n",
    "from google.protobuf import text_format\n",
    "\n",
    "file_io.recursive_create_dir(OUTPUT_DIR)\n",
    "schema_file = os.path.join(OUTPUT_DIR, 'schema.pbtxt')\n",
    "tfdv.write_schema_text(schema, schema_file)\n",
    "\n",
    "!cat {schema_file}"
   ]
  },
  {
   "cell_type": "markdown",
   "metadata": {
    "colab_type": "text",
    "id": "b8eC59yISdGB"
   },
   "source": [
    "## When to use TFDV\n",
    "\n",
    "It's easy to think of TFDV as only applying to the start of your training pipeline, as we did here, but in fact it has many uses.  Here's a few more:\n",
    "\n",
    "* Validating new data for inference to make sure that we haven't suddenly started receiving bad features\n",
    "* Validating new data for inference to make sure that our model has trained on that part of the decision surface\n",
    "* Validating our data after we've transformed it and done feature engineering (probably using [TensorFlow Transform](https://www.tensorflow.org/tfx/transform/)) to make sure we haven't done something wrong"
   ]
  },
  {
   "cell_type": "code",
   "execution_count": null,
   "metadata": {},
   "outputs": [],
   "source": []
  }
 ],
 "metadata": {
  "accelerator": "GPU",
  "colab": {
   "collapsed_sections": [
    "tghWegsjhpkt"
   ],
   "name": "chicago_taxi.ipynb",
   "private_outputs": true,
   "provenance": [],
   "toc_visible": true,
   "version": "0.3.2"
  },
  "kernelspec": {
   "display_name": "Python 3",
   "language": "python",
   "name": "python3"
  },
  "language_info": {
   "codemirror_mode": {
    "name": "ipython",
    "version": 3
   },
   "file_extension": ".py",
   "mimetype": "text/x-python",
   "name": "python",
   "nbconvert_exporter": "python",
   "pygments_lexer": "ipython3",
   "version": "3.6.7"
  }
 },
 "nbformat": 4,
 "nbformat_minor": 1
}
