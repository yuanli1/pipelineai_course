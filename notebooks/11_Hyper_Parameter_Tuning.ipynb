{
 "cells": [
  {
   "cell_type": "code",
   "execution_count": 1,
   "metadata": {},
   "outputs": [
    {
     "name": "stdout",
     "output_type": "stream",
     "text": [
      "studyjob.kubeflow.org/random-search-job created\r\n"
     ]
    }
   ],
   "source": [
    "!kubectl create -f hyperparameter-tuning/random-search-job.yaml"
   ]
  },
  {
   "cell_type": "markdown",
   "metadata": {},
   "source": [
    "# Check out the Parameter Optimizations tab\n",
    "\n",
    "![Successful Hyperparameter Tuning](https://raw.githubusercontent.com/PipelineAI/site/master/assets/img/successful-hyperparameter-tuning.png)\n",
    "\n",
    "![Successful Hyperparameter Tuning](https://raw.githubusercontent.com/PipelineAI/site/master/assets/img/successful-hyperparameter-tuning-2.png)"
   ]
  },
  {
   "cell_type": "code",
   "execution_count": null,
   "metadata": {},
   "outputs": [],
   "source": []
  }
 ],
 "metadata": {
  "kernelspec": {
   "display_name": "Python 3",
   "language": "python",
   "name": "python3"
  },
  "language_info": {
   "codemirror_mode": {
    "name": "ipython",
    "version": 3
   },
   "file_extension": ".py",
   "mimetype": "text/x-python",
   "name": "python",
   "nbconvert_exporter": "python",
   "pygments_lexer": "ipython3",
   "version": "3.6.7"
  }
 },
 "nbformat": 4,
 "nbformat_minor": 2
}
