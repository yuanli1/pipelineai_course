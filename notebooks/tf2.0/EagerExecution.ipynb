{
 "cells": [
  {
   "cell_type": "markdown",
   "metadata": {
    "colab_type": "text",
    "id": "U9i2Dsh-ziXr"
   },
   "source": [
    "# Eager Execution Tutorial: Basics\n",
    "\n",
    "This notebook introduces the basics of using TensorFlow's eager execution capabilities. It covers concepts such as:\n",
    "\n",
    "* Importing required packages\n",
    "* Enabling eager execution\n",
    "* Creating and using TensorFlow Tensors and Variables\n",
    "* Using TensorFlow interactively\n",
    "* Using GPUs with eager execution enabled\n",
    "\n",
    "This notebook does *not* cover modeling topics, such as gradients."
   ]
  },
  {
   "cell_type": "markdown",
   "metadata": {
    "colab_type": "text",
    "id": "z1JcS5iBXMRO"
   },
   "source": [
    "# Step 1: Import Eager\n",
    "\n",
    "The key imports for eager execution are the following:"
   ]
  },
  {
   "cell_type": "code",
   "execution_count": 1,
   "metadata": {
    "cellView": "code",
    "colab": {
     "autoexec": {
      "startup": false,
      "wait_interval": 0
     }
    },
    "colab_type": "code",
    "id": "RlIWhyeLoYnG"
   },
   "outputs": [],
   "source": [
    "import tensorflow as tf\n",
    "import tensorflow.contrib.eager as tfe"
   ]
  },
  {
   "cell_type": "markdown",
   "metadata": {
    "colab_type": "text",
    "id": "H9UySOPLXdaw"
   },
   "source": [
    "# Step 2: Enable eager execution\n",
    "\n",
    "All future TensorFlow calls will execute the\n",
    "underlying TensorFlow ops immediately:"
   ]
  },
  {
   "cell_type": "code",
   "execution_count": 2,
   "metadata": {
    "cellView": "code",
    "colab": {
     "autoexec": {
      "startup": false,
      "wait_interval": 0
     }
    },
    "colab_type": "code",
    "id": "WPTUfGq6kJ5w"
   },
   "outputs": [],
   "source": [
    "tfe.enable_eager_execution()"
   ]
  },
  {
   "cell_type": "markdown",
   "metadata": {
    "colab_type": "text",
    "id": "twBfWd5xyu_d"
   },
   "source": [
    "# Step 3: Interactively Use TensorFlow!\n",
    "\n",
    "Now you can call TensorFlow functions and get results, immediately! No more `tf.Sessions`!\n",
    "\n",
    "TensorFlow will automatically wrap native Python types for you with operator overloading for TensorFlow Tensors."
   ]
  },
  {
   "cell_type": "code",
   "execution_count": 3,
   "metadata": {
    "cellView": "code",
    "colab": {
     "autoexec": {
      "startup": false,
      "wait_interval": 0
     }
    },
    "colab_type": "code",
    "id": "ngUe237Wt48W"
   },
   "outputs": [
    {
     "name": "stdout",
     "output_type": "stream",
     "text": [
      "tf.Tensor(3, shape=(), dtype=int32)\n",
      "tf.Tensor([4 6], shape=(2,), dtype=int32)\n",
      "tf.Tensor(25, shape=(), dtype=int32)\n",
      "tf.Tensor(6, shape=(), dtype=int32)\n",
      "tf.Tensor(b'aGVsbG8gd29ybGQ', shape=(), dtype=string)\n",
      "\n",
      "tf.Tensor(7, shape=(), dtype=int32)\n",
      "tf.Tensor(\n",
      "[0.08000001 0.31000003 0.77000004 1.         0.77       0.30999985\n",
      " 0.08000001], shape=(7,), dtype=float32)\n"
     ]
    }
   ],
   "source": [
    "print(tf.add(1, 2))\n",
    "print(tf.add([1, 2], [3, 4]))\n",
    "print(tf.square(5))\n",
    "print(tf.reduce_sum([1, 2, 3]))\n",
    "print(tf.encode_base64(\"hello world\"))\n",
    "print(\"\")\n",
    "\n",
    "x = tf.constant(2)\n",
    "y = tf.constant(3)\n",
    "print(x * y + 1)\n",
    "\n",
    "# Most TensorFlow ops are directly usable with eager execution, giving\n",
    "# results immediately.\n",
    "print(tf.contrib.signal.hamming_window(x * y + 1))"
   ]
  },
  {
   "cell_type": "markdown",
   "metadata": {
    "colab_type": "text",
    "id": "IDY4WsYRhP81"
   },
   "source": [
    "Numpy arrays are supported, too:"
   ]
  },
  {
   "cell_type": "code",
   "execution_count": 4,
   "metadata": {
    "colab": {
     "autoexec": {
      "startup": false,
      "wait_interval": 0
     }
    },
    "colab_type": "code",
    "id": "lCUWzso6mbqR"
   },
   "outputs": [
    {
     "name": "stdout",
     "output_type": "stream",
     "text": [
      "numpy 3x3 matrix of 1s:\n",
      "[[1. 1. 1.]\n",
      " [1. 1. 1.]\n",
      " [1. 1. 1.]]\n",
      "\n",
      "Multiplied by 42:\n",
      "tf.Tensor(\n",
      "[[42. 42. 42.]\n",
      " [42. 42. 42.]\n",
      " [42. 42. 42.]], shape=(3, 3), dtype=float64)\n"
     ]
    }
   ],
   "source": [
    "import numpy as np\n",
    "\n",
    "ones = np.ones([3, 3])\n",
    "\n",
    "print(\"numpy 3x3 matrix of 1s:\")\n",
    "print(ones)\n",
    "print(\"\")\n",
    "\n",
    "print(\"Multiplied by 42:\")\n",
    "print(tf.multiply(ones, 42))"
   ]
  },
  {
   "cell_type": "markdown",
   "metadata": {
    "colab_type": "text",
    "id": "PBNP8yTRfu_X"
   },
   "source": [
    "# Step 4: Define and Print TensorFlow Variables\n",
    "\n",
    "To define TensorFlow variables, use the `get_variable()` function as follows:"
   ]
  },
  {
   "cell_type": "code",
   "execution_count": 5,
   "metadata": {
    "cellView": "code",
    "colab": {
     "autoexec": {
      "startup": false,
      "wait_interval": 0
     }
    },
    "colab_type": "code",
    "id": "3Twf_Rw-gQFM"
   },
   "outputs": [],
   "source": [
    "x = tf.get_variable(name=\"x\", shape=[], dtype=tf.float32, initializer=tf.zeros_initializer)"
   ]
  },
  {
   "cell_type": "markdown",
   "metadata": {
    "colab_type": "text",
    "id": "45G7094TxsMb"
   },
   "source": [
    "## Printing TensorFlow Variables"
   ]
  },
  {
   "cell_type": "code",
   "execution_count": 6,
   "metadata": {
    "cellView": "code",
    "colab": {
     "autoexec": {
      "startup": false,
      "wait_interval": 0
     }
    },
    "colab_type": "code",
    "id": "UJBJeZ5XxuwA"
   },
   "outputs": [
    {
     "name": "stdout",
     "output_type": "stream",
     "text": [
      "Printing a TensorFlow Variable:\n",
      "<tf.Variable 'x:0' shape=() dtype=float32, numpy=0.0>\n",
      "\n",
      "Printing a TensorFlow Variable's value using .read_value():\n",
      "tf.Tensor(0.0, shape=(), dtype=float32)\n",
      "\n",
      "Printing a TensorFlow Variable's value using .read_value().numpy():\n",
      "0.0\n"
     ]
    }
   ],
   "source": [
    "# This does NOT print the Variable's actual value:\n",
    "print(\"Printing a TensorFlow Variable:\")\n",
    "print(x)\n",
    "print(\"\")\n",
    "\n",
    "# A TensorFlow variable represents a reference to a tensor.\n",
    "# The `read_value()` method provides access to the current value of the\n",
    "# variable. Tensorflow Variables are automatically initialized according to the\n",
    "# semantics defined in tf.get_variable().\n",
    "print(\"Printing a TensorFlow Variable's value using .read_value():\")\n",
    "print(x.read_value())\n",
    "print(\"\")\n",
    "\n",
    "print(\"Printing a TensorFlow Variable's value using .read_value().numpy():\")\n",
    "print(x.read_value().numpy())"
   ]
  },
  {
   "cell_type": "markdown",
   "metadata": {
    "colab_type": "text",
    "id": "2njjWHcTpBEn"
   },
   "source": [
    "## Changing a TensorFlow Variable's value\n",
    "\n",
    "To change a TensorFlow Variable's value, use its `.assign()` or `.assign_add()` method:"
   ]
  },
  {
   "cell_type": "code",
   "execution_count": 7,
   "metadata": {
    "colab": {
     "autoexec": {
      "startup": false,
      "wait_interval": 0
     }
    },
    "colab_type": "code",
    "id": "v3wr6Erbo_hB"
   },
   "outputs": [
    {
     "name": "stdout",
     "output_type": "stream",
     "text": [
      "tf.Tensor(42.0, shape=(), dtype=float32)\n",
      "tf.Tensor(45.0, shape=(), dtype=float32)\n"
     ]
    }
   ],
   "source": [
    "x.assign(42)\n",
    "print(x.read_value())\n",
    "\n",
    "x.assign_add(3)\n",
    "print(x.read_value())"
   ]
  },
  {
   "cell_type": "markdown",
   "metadata": {
    "colab_type": "text",
    "id": "uhtynjHVpTB5"
   },
   "source": [
    "## Use a Variable just like any other Tensor"
   ]
  },
  {
   "cell_type": "code",
   "execution_count": 8,
   "metadata": {
    "colab": {
     "autoexec": {
      "startup": false,
      "wait_interval": 0
     }
    },
    "colab_type": "code",
    "id": "7PbktdnHoehR"
   },
   "outputs": [
    {
     "name": "stdout",
     "output_type": "stream",
     "text": [
      "WARNING:tensorflow:From /opt/conda/lib/python3.6/site-packages/tensorflow/python/ops/resource_variable_ops.py:642: colocate_with (from tensorflow.python.framework.ops) is deprecated and will be removed in a future version.\n",
      "Instructions for updating:\n",
      "Colocations handled automatically by placer.\n",
      "tf.Tensor(48.0, shape=(), dtype=float32)\n",
      "tf.Tensor([ 45.  90. 180.], shape=(3,), dtype=float32)\n"
     ]
    }
   ],
   "source": [
    "print(x + 3)\n",
    "\n",
    "# This code will broadcast the value across the list of numbers:\n",
    "print(x * [1, 2, 4])"
   ]
  },
  {
   "cell_type": "markdown",
   "metadata": {
    "colab_type": "text",
    "id": "GVChqwlwy1SI"
   },
   "source": [
    "# Step 5: Debug Errors with Instant Feedback\n",
    "\n",
    "TensorFlow's eager execution helps you identify and debug runtime issues through interactive exploration of code snippets.\n",
    "\n",
    "Below, we'll define a length-4 vector, and attempt two `tf.slice()` operations,\n",
    "one being legal and the other being illegal, leading to a runtime error that is\n",
    "raised immediately."
   ]
  },
  {
   "cell_type": "code",
   "execution_count": 9,
   "metadata": {
    "cellView": "code",
    "colab": {
     "autoexec": {
      "startup": false,
      "wait_interval": 0
     }
    },
    "colab_type": "code",
    "id": "23ap04N0v4k0"
   },
   "outputs": [],
   "source": [
    "vector = tf.constant([10.0, 20.0, 30.0, 40.0])"
   ]
  },
  {
   "cell_type": "code",
   "execution_count": 10,
   "metadata": {
    "cellView": "code",
    "colab": {
     "autoexec": {
      "startup": false,
      "wait_interval": 0
     }
    },
    "colab_type": "code",
    "id": "FCUMsIYxxRRa"
   },
   "outputs": [
    {
     "name": "stdout",
     "output_type": "stream",
     "text": [
      "tf.Tensor([20. 30. 40.], shape=(3,), dtype=float32)\n"
     ]
    }
   ],
   "source": [
    "# Works, because the values of `begin` and `size` (the 2nd and 3rd input\n",
    "# arguments) are within the bound of `vector`.\n",
    "print(tf.slice(vector, [1], [3]))"
   ]
  },
  {
   "cell_type": "code",
   "execution_count": 11,
   "metadata": {
    "cellView": "code",
    "colab": {
     "autoexec": {
      "startup": false,
      "wait_interval": 0
     }
    },
    "colab_type": "code",
    "id": "T8me2oCNxpFp"
   },
   "outputs": [
    {
     "name": "stdout",
     "output_type": "stream",
     "text": [
      "Caught error: Expected size[0] in [0, 3], but got 4 [Op:Slice]\n"
     ]
    }
   ],
   "source": [
    "# The following does NOT work, because the value of `size` (the 3rd\n",
    "# argument) causes the indices to go out of the bounds of `vector`. The\n",
    "# error is raised immediately.\n",
    "try:\n",
    "  print(tf.slice(vector, [1], [4]))\n",
    "except tf.OpError as e:\n",
    "  print(\"Caught error: %s\" % e)"
   ]
  },
  {
   "cell_type": "markdown",
   "metadata": {
    "colab_type": "text",
    "id": "irxJhAgar84v"
   },
   "source": [
    "# Step 6: Timing a Matrix Multiply\n",
    "\n",
    "You can place Tensors on the GPU by calling a Tensor's `.gpu()` method.\n",
    "\n",
    "The first operation executing on the GPU may be slow as TensorFlow initializes. Subsequent uses will be much faster."
   ]
  },
  {
   "cell_type": "code",
   "execution_count": 12,
   "metadata": {
    "colab": {
     "autoexec": {
      "startup": false,
      "wait_interval": 0
     }
    },
    "colab_type": "code",
    "id": "7J4N9baqaKCL"
   },
   "outputs": [],
   "source": [
    "# Create some Tensors\n",
    "SIZE = 1000\n",
    "cpu_tensor = tf.random_normal([SIZE, SIZE])"
   ]
  },
  {
   "cell_type": "code",
   "execution_count": 13,
   "metadata": {
    "colab": {
     "autoexec": {
      "startup": false,
      "wait_interval": 0
     }
    },
    "colab_type": "code",
    "id": "4E-2n7VbzY1n"
   },
   "outputs": [
    {
     "name": "stdout",
     "output_type": "stream",
     "text": [
      "Time to conduct matmul on CPU:\n",
      "CPU times: user 85.7 ms, sys: 8.67 ms, total: 94.3 ms\n",
      "Wall time: 8.35 ms\n"
     ]
    },
    {
     "data": {
      "text/plain": [
       "<tf.Tensor: id=101, shape=(1000, 1000), dtype=float32, numpy=\n",
       "array([[-22.668242  ,  38.007896  ,  -3.9072049 , ..., -10.499456  ,\n",
       "         27.864986  ,  25.598562  ],\n",
       "       [-36.49619   ,  67.57087   ,   2.2158284 , ...,  22.955406  ,\n",
       "         22.139317  ,  42.043945  ],\n",
       "       [ 35.619404  ,  56.174953  , -19.824926  , ...,  64.64426   ,\n",
       "         30.440754  , -27.848377  ],\n",
       "       ...,\n",
       "       [ 29.374544  , -36.12781   ,  -0.16545486, ...,  -6.996688  ,\n",
       "        -33.78284   ,  -0.74533486],\n",
       "       [-12.0655155 ,  31.614304  , -34.17546   , ..., -62.04868   ,\n",
       "        -18.782942  ,  39.03946   ],\n",
       "       [-62.610302  , -37.903553  , -11.2757435 , ...,  17.849714  ,\n",
       "         -4.5623817 ,  20.456865  ]], dtype=float32)>"
      ]
     },
     "execution_count": 13,
     "metadata": {},
     "output_type": "execute_result"
    }
   ],
   "source": [
    "# Time a CPU-based matrix multiplication\n",
    "\n",
    "print(\"Time to conduct matmul on CPU:\")\n",
    "%time tf.matmul(cpu_tensor, cpu_tensor)"
   ]
  },
  {
   "cell_type": "code",
   "execution_count": null,
   "metadata": {},
   "outputs": [],
   "source": []
  },
  {
   "cell_type": "code",
   "execution_count": null,
   "metadata": {},
   "outputs": [],
   "source": []
  },
  {
   "cell_type": "code",
   "execution_count": null,
   "metadata": {},
   "outputs": [],
   "source": []
  }
 ],
 "metadata": {
  "colab": {
   "default_view": {},
   "name": "Eager Execution Tutorial: Basics",
   "provenance": [
    {
     "file_id": "0B0kLcpwLFwKEVm9XNkFueGk4bTg",
     "timestamp": 1504118841551
    }
   ],
   "version": "0.3.2",
   "views": {}
  },
  "kernelspec": {
   "display_name": "Python 3",
   "language": "python",
   "name": "python3"
  },
  "language_info": {
   "codemirror_mode": {
    "name": "ipython",
    "version": 3
   },
   "file_extension": ".py",
   "mimetype": "text/x-python",
   "name": "python",
   "nbconvert_exporter": "python",
   "pygments_lexer": "ipython3",
   "version": "3.6.7"
  }
 },
 "nbformat": 4,
 "nbformat_minor": 2
}
